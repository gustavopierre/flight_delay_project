{
  "cells": [
    {
      "cell_type": "markdown",
      "metadata": {
        "colab_type": "text",
        "id": "view-in-github"
      },
      "source": [
        "<a href=\"https://colab.research.google.com/github/gustavopierre/flight_delay_project/blob/main/notebook/Flight_Delay.ipynb\" target=\"_parent\"><img src=\"https://colab.research.google.com/assets/colab-badge.svg\" alt=\"Open In Colab\"/></a>"
      ]
    },
    {
      "cell_type": "markdown",
      "metadata": {
        "id": "lvXUxFjsE2mT"
      },
      "source": [
        "[![author](https://github.com/gustavopierre/data_science_portfolio/blob/master/author-gustavopierre.png?raw=true)](https://www.linkedin.com/in/gustavo_pierre) [![](https://img.shields.io/badge/python-3.7+-blue.svg)](https://www.python.org/downloads/release/python-365/) [![contributions welcome](https://img.shields.io/badge/contributions-welcome-brightgreen.svg?style=flat)](https://github.com/gustavopierre/data_science_portfolio/issues)\n",
        "\n",
        "<p align=\"center\">\n",
        "  <img src=\"https://github.com/gustavopierre/flight_delay_project/blob/main/images/pexels-matoga-27982027.jpg?raw=true\" alt=\"Avião lvantando vôo no alvorecer\" >\n",
        "  <a href=\"https://www.pexels.com/pt-br/foto/voo-alvorecer-amanhecer-aurora-27982027/\">Foto de Manuel Torres Garcia no Pexels</a>\n",
        "</p>"
      ]
    },
    {
      "cell_type": "markdown",
      "metadata": {
        "id": "SPeKjYHVJR4d"
      },
      "source": [
        "# **Predizendo se um Vôo Vai Atrasar ou Não**"
      ]
    },
    {
      "cell_type": "markdown",
      "metadata": {
        "id": "jaj8GRYsHd8M"
      },
      "source": [
        "## **Resumo**\n",
        "O Flight Delay Project é um projeto da sprint de Qualidade de Software, Segurança e Sistemas Inteligentes do curso de Pós-graduação em Engenharia de Software da Pontifícia Universidade Católica do Rio de Janeiro. Ele envolve a escolha de um modelo para predizer se um vôo vai ter atraso ou não baseado em dados de aeroportos nos EUA disponibilizados no Kaggle."
      ]
    },
    {
      "cell_type": "markdown",
      "metadata": {
        "id": "chv-_fmxJdLQ"
      },
      "source": [
        "## **Introdução**"
      ]
    },
    {
      "cell_type": "markdown",
      "metadata": {
        "id": "XbSGTkTp8cHq"
      },
      "source": [
        "## **Inicializando o Ambiente**"
      ]
    },
    {
      "cell_type": "code",
      "execution_count": 1,
      "metadata": {
        "id": "gaxsuzK_-GX5"
      },
      "outputs": [],
      "source": [
        "# config don't show warnings\n",
        "import warnings\n",
        "warnings.filterwarnings(\"ignore\")"
      ]
    },
    {
      "cell_type": "code",
      "execution_count": 2,
      "metadata": {
        "id": "Y7Hle0SJkFCh"
      },
      "outputs": [],
      "source": [
        "# library needed\n",
        "import pandas as pd\n",
        "import numpy as np\n",
        "import matplotlib.pyplot as plt\n",
        "import seaborn as sns\n",
        "from sklearn.preprocessing import FunctionTransformer, OneHotEncoder, StandardScaler\n",
        "from sklearn.preprocessing import MinMaxScaler\n",
        "from sklearn.compose import ColumnTransformer\n",
        "from sklearn.model_selection import train_test_split\n",
        "from sklearn.model_selection import KFold\n",
        "from sklearn.model_selection import StratifiedKFold\n",
        "from sklearn.model_selection import cross_val_score\n",
        "from sklearn.model_selection import GridSearchCV\n",
        "from sklearn.metrics import accuracy_score\n",
        "from sklearn.pipeline import Pipeline\n",
        "from sklearn.tree import DecisionTreeClassifier\n",
        "from sklearn.neighbors import KNeighborsClassifier\n",
        "from sklearn.naive_bayes import GaussianNB\n",
        "from sklearn.svm import SVC\n"
      ]
    },
    {
      "cell_type": "code",
      "execution_count": 3,
      "metadata": {},
      "outputs": [],
      "source": [
        "# connecting to Google Drive\n",
        "#from google.colab import drive\n",
        "#drive.mount('/content/drive')"
      ]
    },
    {
      "cell_type": "markdown",
      "metadata": {
        "id": "O3goT2xo8nrH"
      },
      "source": [
        "# **Análise Exploratória dos Dados**"
      ]
    },
    {
      "cell_type": "code",
      "execution_count": 4,
      "metadata": {
        "id": "qOxvlLyAnUrg"
      },
      "outputs": [],
      "source": [
        "# reading the dataset\n",
        "path = \"https://raw.githubusercontent.com/gustavopierre/flight_delay_project/refs/heads/main/api/machinelearning/data/Airlines.csv\"\n",
        "\n",
        "dt = pd.read_csv(path)"
      ]
    },
    {
      "cell_type": "code",
      "execution_count": 5,
      "metadata": {
        "colab": {
          "base_uri": "https://localhost:8080/",
          "height": 206
        },
        "id": "DmzNR4PAoi4m",
        "outputId": "f9c70d43-b3f2-41a9-86dd-0457a7a83fb6"
      },
      "outputs": [
        {
          "data": {
            "text/html": [
              "<div>\n",
              "<style scoped>\n",
              "    .dataframe tbody tr th:only-of-type {\n",
              "        vertical-align: middle;\n",
              "    }\n",
              "\n",
              "    .dataframe tbody tr th {\n",
              "        vertical-align: top;\n",
              "    }\n",
              "\n",
              "    .dataframe thead th {\n",
              "        text-align: right;\n",
              "    }\n",
              "</style>\n",
              "<table border=\"1\" class=\"dataframe\">\n",
              "  <thead>\n",
              "    <tr style=\"text-align: right;\">\n",
              "      <th></th>\n",
              "      <th>id</th>\n",
              "      <th>Airline</th>\n",
              "      <th>Flight</th>\n",
              "      <th>AirportFrom</th>\n",
              "      <th>AirportTo</th>\n",
              "      <th>DayOfWeek</th>\n",
              "      <th>Time</th>\n",
              "      <th>Length</th>\n",
              "      <th>Delay</th>\n",
              "    </tr>\n",
              "  </thead>\n",
              "  <tbody>\n",
              "    <tr>\n",
              "      <th>0</th>\n",
              "      <td>1</td>\n",
              "      <td>CO</td>\n",
              "      <td>269</td>\n",
              "      <td>SFO</td>\n",
              "      <td>IAH</td>\n",
              "      <td>3</td>\n",
              "      <td>15</td>\n",
              "      <td>205</td>\n",
              "      <td>1</td>\n",
              "    </tr>\n",
              "    <tr>\n",
              "      <th>1</th>\n",
              "      <td>2</td>\n",
              "      <td>US</td>\n",
              "      <td>1558</td>\n",
              "      <td>PHX</td>\n",
              "      <td>CLT</td>\n",
              "      <td>3</td>\n",
              "      <td>15</td>\n",
              "      <td>222</td>\n",
              "      <td>1</td>\n",
              "    </tr>\n",
              "    <tr>\n",
              "      <th>2</th>\n",
              "      <td>3</td>\n",
              "      <td>AA</td>\n",
              "      <td>2400</td>\n",
              "      <td>LAX</td>\n",
              "      <td>DFW</td>\n",
              "      <td>3</td>\n",
              "      <td>20</td>\n",
              "      <td>165</td>\n",
              "      <td>1</td>\n",
              "    </tr>\n",
              "    <tr>\n",
              "      <th>3</th>\n",
              "      <td>4</td>\n",
              "      <td>AA</td>\n",
              "      <td>2466</td>\n",
              "      <td>SFO</td>\n",
              "      <td>DFW</td>\n",
              "      <td>3</td>\n",
              "      <td>20</td>\n",
              "      <td>195</td>\n",
              "      <td>1</td>\n",
              "    </tr>\n",
              "    <tr>\n",
              "      <th>4</th>\n",
              "      <td>5</td>\n",
              "      <td>AS</td>\n",
              "      <td>108</td>\n",
              "      <td>ANC</td>\n",
              "      <td>SEA</td>\n",
              "      <td>3</td>\n",
              "      <td>30</td>\n",
              "      <td>202</td>\n",
              "      <td>0</td>\n",
              "    </tr>\n",
              "  </tbody>\n",
              "</table>\n",
              "</div>"
            ],
            "text/plain": [
              "   id Airline  Flight AirportFrom AirportTo  DayOfWeek  Time  Length  Delay\n",
              "0   1      CO     269         SFO       IAH          3    15     205      1\n",
              "1   2      US    1558         PHX       CLT          3    15     222      1\n",
              "2   3      AA    2400         LAX       DFW          3    20     165      1\n",
              "3   4      AA    2466         SFO       DFW          3    20     195      1\n",
              "4   5      AS     108         ANC       SEA          3    30     202      0"
            ]
          },
          "execution_count": 5,
          "metadata": {},
          "output_type": "execute_result"
        }
      ],
      "source": [
        "# show the five firsts lines\n",
        "dt.head()"
      ]
    },
    {
      "cell_type": "code",
      "execution_count": 6,
      "metadata": {
        "colab": {
          "base_uri": "https://localhost:8080/"
        },
        "id": "4E0yKXYUzKG1",
        "outputId": "ee5ffaff-20e9-4344-f57d-446d76b789d8"
      },
      "outputs": [
        {
          "name": "stdout",
          "output_type": "stream",
          "text": [
            "<class 'pandas.core.frame.DataFrame'>\n",
            "RangeIndex: 539383 entries, 0 to 539382\n",
            "Data columns (total 9 columns):\n",
            " #   Column       Non-Null Count   Dtype \n",
            "---  ------       --------------   ----- \n",
            " 0   id           539383 non-null  int64 \n",
            " 1   Airline      539383 non-null  object\n",
            " 2   Flight       539383 non-null  int64 \n",
            " 3   AirportFrom  539383 non-null  object\n",
            " 4   AirportTo    539383 non-null  object\n",
            " 5   DayOfWeek    539383 non-null  int64 \n",
            " 6   Time         539383 non-null  int64 \n",
            " 7   Length       539383 non-null  int64 \n",
            " 8   Delay        539383 non-null  int64 \n",
            "dtypes: int64(6), object(3)\n",
            "memory usage: 37.0+ MB\n"
          ]
        }
      ],
      "source": [
        "# Checking the types of the data\n",
        "dt.info()"
      ]
    },
    {
      "cell_type": "code",
      "execution_count": 7,
      "metadata": {
        "colab": {
          "base_uri": "https://localhost:8080/",
          "height": 300
        },
        "id": "tvykO7yDzdSz",
        "outputId": "fe029fdf-5e66-47c2-f332-5ee1e80f314e"
      },
      "outputs": [
        {
          "data": {
            "text/html": [
              "<div>\n",
              "<style scoped>\n",
              "    .dataframe tbody tr th:only-of-type {\n",
              "        vertical-align: middle;\n",
              "    }\n",
              "\n",
              "    .dataframe tbody tr th {\n",
              "        vertical-align: top;\n",
              "    }\n",
              "\n",
              "    .dataframe thead th {\n",
              "        text-align: right;\n",
              "    }\n",
              "</style>\n",
              "<table border=\"1\" class=\"dataframe\">\n",
              "  <thead>\n",
              "    <tr style=\"text-align: right;\">\n",
              "      <th></th>\n",
              "      <th>id</th>\n",
              "      <th>Flight</th>\n",
              "      <th>DayOfWeek</th>\n",
              "      <th>Time</th>\n",
              "      <th>Length</th>\n",
              "      <th>Delay</th>\n",
              "    </tr>\n",
              "  </thead>\n",
              "  <tbody>\n",
              "    <tr>\n",
              "      <th>count</th>\n",
              "      <td>539383.000000</td>\n",
              "      <td>539383.000000</td>\n",
              "      <td>539383.000000</td>\n",
              "      <td>539383.000000</td>\n",
              "      <td>539383.000000</td>\n",
              "      <td>539383.000000</td>\n",
              "    </tr>\n",
              "    <tr>\n",
              "      <th>mean</th>\n",
              "      <td>269692.000000</td>\n",
              "      <td>2427.928630</td>\n",
              "      <td>3.929668</td>\n",
              "      <td>802.728963</td>\n",
              "      <td>132.202007</td>\n",
              "      <td>0.445442</td>\n",
              "    </tr>\n",
              "    <tr>\n",
              "      <th>std</th>\n",
              "      <td>155706.604461</td>\n",
              "      <td>2067.429837</td>\n",
              "      <td>1.914664</td>\n",
              "      <td>278.045911</td>\n",
              "      <td>70.117016</td>\n",
              "      <td>0.497015</td>\n",
              "    </tr>\n",
              "    <tr>\n",
              "      <th>min</th>\n",
              "      <td>1.000000</td>\n",
              "      <td>1.000000</td>\n",
              "      <td>1.000000</td>\n",
              "      <td>10.000000</td>\n",
              "      <td>0.000000</td>\n",
              "      <td>0.000000</td>\n",
              "    </tr>\n",
              "    <tr>\n",
              "      <th>25%</th>\n",
              "      <td>134846.500000</td>\n",
              "      <td>712.000000</td>\n",
              "      <td>2.000000</td>\n",
              "      <td>565.000000</td>\n",
              "      <td>81.000000</td>\n",
              "      <td>0.000000</td>\n",
              "    </tr>\n",
              "    <tr>\n",
              "      <th>50%</th>\n",
              "      <td>269692.000000</td>\n",
              "      <td>1809.000000</td>\n",
              "      <td>4.000000</td>\n",
              "      <td>795.000000</td>\n",
              "      <td>115.000000</td>\n",
              "      <td>0.000000</td>\n",
              "    </tr>\n",
              "    <tr>\n",
              "      <th>75%</th>\n",
              "      <td>404537.500000</td>\n",
              "      <td>3745.000000</td>\n",
              "      <td>5.000000</td>\n",
              "      <td>1035.000000</td>\n",
              "      <td>162.000000</td>\n",
              "      <td>1.000000</td>\n",
              "    </tr>\n",
              "    <tr>\n",
              "      <th>max</th>\n",
              "      <td>539383.000000</td>\n",
              "      <td>7814.000000</td>\n",
              "      <td>7.000000</td>\n",
              "      <td>1439.000000</td>\n",
              "      <td>655.000000</td>\n",
              "      <td>1.000000</td>\n",
              "    </tr>\n",
              "  </tbody>\n",
              "</table>\n",
              "</div>"
            ],
            "text/plain": [
              "                  id         Flight      DayOfWeek           Time  \\\n",
              "count  539383.000000  539383.000000  539383.000000  539383.000000   \n",
              "mean   269692.000000    2427.928630       3.929668     802.728963   \n",
              "std    155706.604461    2067.429837       1.914664     278.045911   \n",
              "min         1.000000       1.000000       1.000000      10.000000   \n",
              "25%    134846.500000     712.000000       2.000000     565.000000   \n",
              "50%    269692.000000    1809.000000       4.000000     795.000000   \n",
              "75%    404537.500000    3745.000000       5.000000    1035.000000   \n",
              "max    539383.000000    7814.000000       7.000000    1439.000000   \n",
              "\n",
              "              Length          Delay  \n",
              "count  539383.000000  539383.000000  \n",
              "mean      132.202007       0.445442  \n",
              "std        70.117016       0.497015  \n",
              "min         0.000000       0.000000  \n",
              "25%        81.000000       0.000000  \n",
              "50%       115.000000       0.000000  \n",
              "75%       162.000000       1.000000  \n",
              "max       655.000000       1.000000  "
            ]
          },
          "execution_count": 7,
          "metadata": {},
          "output_type": "execute_result"
        }
      ],
      "source": [
        "dt.describe()"
      ]
    },
    {
      "cell_type": "markdown",
      "metadata": {
        "id": "rHMYuJ2QQqTQ"
      },
      "source": [
        "Flight, Airline, AirportFrom, AirportTo são variáveis categoricas e DayofWeek e Time são variáveis Cíclicas. Ambos os tipos não são adequados para trabalhar em modelos de Machine Learning. O tipo da variável e sua cardinalidade influenciarão na forma que prepararemos as variaveis."
      ]
    },
    {
      "cell_type": "code",
      "execution_count": 8,
      "metadata": {
        "colab": {
          "base_uri": "https://localhost:8080/"
        },
        "id": "6cy1Jzqs38Pj",
        "outputId": "8a17807b-7440-4c19-f68b-0ded37c73c1b"
      },
      "outputs": [
        {
          "name": "stdout",
          "output_type": "stream",
          "text": [
            "Variável: Flight, Cardinalidade: high cardinality, Quantidade de valores únicos: 6585\n",
            "Variável: Airline, Cardinalidade: low cardinality, Quantidade de valores únicos: 18\n",
            "Variável: AirportFrom, Cardinalidade: high cardinality, Quantidade de valores únicos: 293\n",
            "Variável: AirportTo, Cardinalidade: high cardinality, Quantidade de valores únicos: 293\n",
            "Variável: DayOfWeek, Cardinalidade: low cardinality, Quantidade de valores únicos: 7\n",
            "Variável: Time, Cardinalidade: high cardinality, Quantidade de valores únicos: 1131\n"
          ]
        }
      ],
      "source": [
        "# verificando a cardinalidade\n",
        "variables = ['Flight', 'Airline', 'AirportFrom', 'AirportTo', 'DayOfWeek', 'Time']\n",
        "for var in variables:\n",
        "    if dt[var].nunique() < 50:\n",
        "        cardinality = 'low cardinality'\n",
        "    else:\n",
        "        cardinality = 'high cardinality'\n",
        "    print(f\"Variável: {var}, Cardinalidade: {cardinality}, Quantidade de valores únicos: {dt[var].nunique()}\")"
      ]
    },
    {
      "cell_type": "markdown",
      "metadata": {
        "id": "JUfJDRgASpdu"
      },
      "source": [
        "Analisando e tratando a variável Flight"
      ]
    },
    {
      "cell_type": "code",
      "execution_count": 9,
      "metadata": {
        "colab": {
          "base_uri": "https://localhost:8080/"
        },
        "id": "E5shjjsjNfaZ",
        "outputId": "d664bb1a-83a3-4820-81b5-b9b4f5084f56"
      },
      "outputs": [
        {
          "name": "stdout",
          "output_type": "stream",
          "text": [
            "  Airline AirportFrom AirportTo  DayOfWeek  Time  UniqueFlightsCount\n",
            "0      9E         ABE       DTW          1   360                   2\n",
            "1      9E         ABE       DTW          1   747                   1\n",
            "2      9E         ABE       DTW          1   750                   1\n",
            "3      9E         ABE       DTW          1   981                   1\n",
            "4      9E         ABE       DTW          1  1000                   1\n"
          ]
        }
      ],
      "source": [
        "# Verificando se tem relacao unica entre Flight e 'Airline', 'AirportFrom', 'AirportTo', 'DayOfWeek', 'Time'\n",
        "# Agrupar pelas colunas desejadas e contar voos únicos\n",
        "flight_counts = dt.groupby(\n",
        "    ['Airline', 'AirportFrom', 'AirportTo', 'DayOfWeek', 'Time']\n",
        ")['Flight'].nunique().reset_index(name='UniqueFlightsCount')\n",
        "\n",
        "# Visualizar as primeiras linhas\n",
        "print(flight_counts.head())"
      ]
    },
    {
      "cell_type": "markdown",
      "metadata": {
        "id": "Fgvyhn-S0nR3"
      },
      "source": [
        "**Flight** é uma variável que não representa uma quantidade, portanto, não tem ordem nem escala. Não é quantitativa, mas sim qualitativa, possui Cardinalidade Alta (6585 registros únicos) e tem criterios proprios em cada empresa aérea. Não contem um valor único para uma mesma combinação das variáveis 'Airline', 'AirportFrom', 'AirportTo', 'DayOfWeek', 'Time'.  Será tratada com Frequency Encoding, mais simples e eficiente. Será usada a frequência relativa ao total, pois o valor ja fica entre 0 e 1."
      ]
    },
    {
      "cell_type": "code",
      "execution_count": 10,
      "metadata": {
        "colab": {
          "base_uri": "https://localhost:8080/",
          "height": 363
        },
        "id": "-LJSkHtV0XqQ",
        "outputId": "3770466b-55b0-49a4-c1d7-caca6cf13c48"
      },
      "outputs": [
        {
          "data": {
            "text/html": [
              "<div>\n",
              "<style scoped>\n",
              "    .dataframe tbody tr th:only-of-type {\n",
              "        vertical-align: middle;\n",
              "    }\n",
              "\n",
              "    .dataframe tbody tr th {\n",
              "        vertical-align: top;\n",
              "    }\n",
              "\n",
              "    .dataframe thead th {\n",
              "        text-align: right;\n",
              "    }\n",
              "</style>\n",
              "<table border=\"1\" class=\"dataframe\">\n",
              "  <thead>\n",
              "    <tr style=\"text-align: right;\">\n",
              "      <th></th>\n",
              "      <th>Flight</th>\n",
              "      <th>Flight_freq</th>\n",
              "    </tr>\n",
              "  </thead>\n",
              "  <tbody>\n",
              "    <tr>\n",
              "      <th>0</th>\n",
              "      <td>269</td>\n",
              "      <td>0.000326</td>\n",
              "    </tr>\n",
              "    <tr>\n",
              "      <th>1</th>\n",
              "      <td>1558</td>\n",
              "      <td>0.000332</td>\n",
              "    </tr>\n",
              "    <tr>\n",
              "      <th>2</th>\n",
              "      <td>2400</td>\n",
              "      <td>0.000161</td>\n",
              "    </tr>\n",
              "    <tr>\n",
              "      <th>3</th>\n",
              "      <td>2466</td>\n",
              "      <td>0.000271</td>\n",
              "    </tr>\n",
              "    <tr>\n",
              "      <th>4</th>\n",
              "      <td>108</td>\n",
              "      <td>0.000393</td>\n",
              "    </tr>\n",
              "    <tr>\n",
              "      <th>5</th>\n",
              "      <td>1094</td>\n",
              "      <td>0.000311</td>\n",
              "    </tr>\n",
              "    <tr>\n",
              "      <th>6</th>\n",
              "      <td>1768</td>\n",
              "      <td>0.000224</td>\n",
              "    </tr>\n",
              "    <tr>\n",
              "      <th>7</th>\n",
              "      <td>2722</td>\n",
              "      <td>0.000200</td>\n",
              "    </tr>\n",
              "    <tr>\n",
              "      <th>8</th>\n",
              "      <td>2606</td>\n",
              "      <td>0.000154</td>\n",
              "    </tr>\n",
              "    <tr>\n",
              "      <th>9</th>\n",
              "      <td>2538</td>\n",
              "      <td>0.000187</td>\n",
              "    </tr>\n",
              "  </tbody>\n",
              "</table>\n",
              "</div>"
            ],
            "text/plain": [
              "   Flight  Flight_freq\n",
              "0     269     0.000326\n",
              "1    1558     0.000332\n",
              "2    2400     0.000161\n",
              "3    2466     0.000271\n",
              "4     108     0.000393\n",
              "5    1094     0.000311\n",
              "6    1768     0.000224\n",
              "7    2722     0.000200\n",
              "8    2606     0.000154\n",
              "9    2538     0.000187"
            ]
          },
          "execution_count": 10,
          "metadata": {},
          "output_type": "execute_result"
        }
      ],
      "source": [
        "dt[\"Flight_freq\"] = dt['Flight'].map(dt['Flight'].value_counts(normalize=True))\n",
        "dt[[\"Flight\", \"Flight_freq\"]].head(10)"
      ]
    },
    {
      "cell_type": "code",
      "execution_count": 11,
      "metadata": {
        "colab": {
          "base_uri": "https://localhost:8080/",
          "height": 411
        },
        "id": "unuyjttMVVhH",
        "outputId": "a2cbe4df-c0d2-40ce-f9a7-89a86ecb6c90"
      },
      "outputs": [
        {
          "data": {
            "image/png": "[encoded data removed]",
            "text/plain": [
              "<Figure size 800x400 with 1 Axes>"
            ]
          },
          "metadata": {},
          "output_type": "display_data"
        }
      ],
      "source": [
        "plt.figure(figsize=(8, 4))\n",
        "sns.boxplot(x=dt['Flight_freq'])\n",
        "plt.title('Boxplot da Frequência de Voos (Flight_freq)')\n",
        "plt.xlabel('Frequência')\n",
        "plt.grid(True)\n",
        "plt.show()"
      ]
    },
    {
      "cell_type": "markdown",
      "metadata": {
        "id": "ayYmbEQjXjTn"
      },
      "source": [
        "Analisando e tratando a variável Airline"
      ]
    },
    {
      "cell_type": "markdown",
      "metadata": {
        "id": "krYLX3bVYN66"
      },
      "source": [
        "**Airline** é  uma variável categórica nominal, portanto, qualitativa. Devido a sua baixa cardinalidade, com apenas 18 valores únicos, será processada usando One-Hot Encoding, onde será criada uma coluna para cada Airline, contendo o valor 0 (falso) ou 1 (verdadeiro)."
      ]
    },
    {
      "cell_type": "code",
      "execution_count": 12,
      "metadata": {
        "colab": {
          "base_uri": "https://localhost:8080/",
          "height": 236
        },
        "id": "-bpOT7H5ZO1H",
        "outputId": "46f7c7d3-1f03-4b0c-9744-bb5283ff2c2b"
      },
      "outputs": [
        {
          "data": {
            "text/html": [
              "<div>\n",
              "<style scoped>\n",
              "    .dataframe tbody tr th:only-of-type {\n",
              "        vertical-align: middle;\n",
              "    }\n",
              "\n",
              "    .dataframe tbody tr th {\n",
              "        vertical-align: top;\n",
              "    }\n",
              "\n",
              "    .dataframe thead th {\n",
              "        text-align: right;\n",
              "    }\n",
              "</style>\n",
              "<table border=\"1\" class=\"dataframe\">\n",
              "  <thead>\n",
              "    <tr style=\"text-align: right;\">\n",
              "      <th></th>\n",
              "      <th>id</th>\n",
              "      <th>Airline</th>\n",
              "      <th>Flight</th>\n",
              "      <th>AirportFrom</th>\n",
              "      <th>AirportTo</th>\n",
              "      <th>DayOfWeek</th>\n",
              "      <th>Time</th>\n",
              "      <th>Length</th>\n",
              "      <th>Delay</th>\n",
              "      <th>Flight_freq</th>\n",
              "      <th>...</th>\n",
              "      <th>Airline_FL</th>\n",
              "      <th>Airline_HA</th>\n",
              "      <th>Airline_MQ</th>\n",
              "      <th>Airline_OH</th>\n",
              "      <th>Airline_OO</th>\n",
              "      <th>Airline_UA</th>\n",
              "      <th>Airline_US</th>\n",
              "      <th>Airline_WN</th>\n",
              "      <th>Airline_XE</th>\n",
              "      <th>Airline_YV</th>\n",
              "    </tr>\n",
              "  </thead>\n",
              "  <tbody>\n",
              "    <tr>\n",
              "      <th>0</th>\n",
              "      <td>1</td>\n",
              "      <td>CO</td>\n",
              "      <td>269</td>\n",
              "      <td>SFO</td>\n",
              "      <td>IAH</td>\n",
              "      <td>3</td>\n",
              "      <td>15</td>\n",
              "      <td>205</td>\n",
              "      <td>1</td>\n",
              "      <td>0.000326</td>\n",
              "      <td>...</td>\n",
              "      <td>False</td>\n",
              "      <td>False</td>\n",
              "      <td>False</td>\n",
              "      <td>False</td>\n",
              "      <td>False</td>\n",
              "      <td>False</td>\n",
              "      <td>False</td>\n",
              "      <td>False</td>\n",
              "      <td>False</td>\n",
              "      <td>False</td>\n",
              "    </tr>\n",
              "    <tr>\n",
              "      <th>1</th>\n",
              "      <td>2</td>\n",
              "      <td>US</td>\n",
              "      <td>1558</td>\n",
              "      <td>PHX</td>\n",
              "      <td>CLT</td>\n",
              "      <td>3</td>\n",
              "      <td>15</td>\n",
              "      <td>222</td>\n",
              "      <td>1</td>\n",
              "      <td>0.000332</td>\n",
              "      <td>...</td>\n",
              "      <td>False</td>\n",
              "      <td>False</td>\n",
              "      <td>False</td>\n",
              "      <td>False</td>\n",
              "      <td>False</td>\n",
              "      <td>False</td>\n",
              "      <td>True</td>\n",
              "      <td>False</td>\n",
              "      <td>False</td>\n",
              "      <td>False</td>\n",
              "    </tr>\n",
              "    <tr>\n",
              "      <th>2</th>\n",
              "      <td>3</td>\n",
              "      <td>AA</td>\n",
              "      <td>2400</td>\n",
              "      <td>LAX</td>\n",
              "      <td>DFW</td>\n",
              "      <td>3</td>\n",
              "      <td>20</td>\n",
              "      <td>165</td>\n",
              "      <td>1</td>\n",
              "      <td>0.000161</td>\n",
              "      <td>...</td>\n",
              "      <td>False</td>\n",
              "      <td>False</td>\n",
              "      <td>False</td>\n",
              "      <td>False</td>\n",
              "      <td>False</td>\n",
              "      <td>False</td>\n",
              "      <td>False</td>\n",
              "      <td>False</td>\n",
              "      <td>False</td>\n",
              "      <td>False</td>\n",
              "    </tr>\n",
              "    <tr>\n",
              "      <th>3</th>\n",
              "      <td>4</td>\n",
              "      <td>AA</td>\n",
              "      <td>2466</td>\n",
              "      <td>SFO</td>\n",
              "      <td>DFW</td>\n",
              "      <td>3</td>\n",
              "      <td>20</td>\n",
              "      <td>195</td>\n",
              "      <td>1</td>\n",
              "      <td>0.000271</td>\n",
              "      <td>...</td>\n",
              "      <td>False</td>\n",
              "      <td>False</td>\n",
              "      <td>False</td>\n",
              "      <td>False</td>\n",
              "      <td>False</td>\n",
              "      <td>False</td>\n",
              "      <td>False</td>\n",
              "      <td>False</td>\n",
              "      <td>False</td>\n",
              "      <td>False</td>\n",
              "    </tr>\n",
              "    <tr>\n",
              "      <th>4</th>\n",
              "      <td>5</td>\n",
              "      <td>AS</td>\n",
              "      <td>108</td>\n",
              "      <td>ANC</td>\n",
              "      <td>SEA</td>\n",
              "      <td>3</td>\n",
              "      <td>30</td>\n",
              "      <td>202</td>\n",
              "      <td>0</td>\n",
              "      <td>0.000393</td>\n",
              "      <td>...</td>\n",
              "      <td>False</td>\n",
              "      <td>False</td>\n",
              "      <td>False</td>\n",
              "      <td>False</td>\n",
              "      <td>False</td>\n",
              "      <td>False</td>\n",
              "      <td>False</td>\n",
              "      <td>False</td>\n",
              "      <td>False</td>\n",
              "      <td>False</td>\n",
              "    </tr>\n",
              "  </tbody>\n",
              "</table>\n",
              "<p>5 rows × 28 columns</p>\n",
              "</div>"
            ],
            "text/plain": [
              "   id Airline  Flight AirportFrom AirportTo  DayOfWeek  Time  Length  Delay  \\\n",
              "0   1      CO     269         SFO       IAH          3    15     205      1   \n",
              "1   2      US    1558         PHX       CLT          3    15     222      1   \n",
              "2   3      AA    2400         LAX       DFW          3    20     165      1   \n",
              "3   4      AA    2466         SFO       DFW          3    20     195      1   \n",
              "4   5      AS     108         ANC       SEA          3    30     202      0   \n",
              "\n",
              "   Flight_freq  ...  Airline_FL  Airline_HA  Airline_MQ  Airline_OH  \\\n",
              "0     0.000326  ...       False       False       False       False   \n",
              "1     0.000332  ...       False       False       False       False   \n",
              "2     0.000161  ...       False       False       False       False   \n",
              "3     0.000271  ...       False       False       False       False   \n",
              "4     0.000393  ...       False       False       False       False   \n",
              "\n",
              "   Airline_OO  Airline_UA  Airline_US  Airline_WN  Airline_XE  Airline_YV  \n",
              "0       False       False       False       False       False       False  \n",
              "1       False       False        True       False       False       False  \n",
              "2       False       False       False       False       False       False  \n",
              "3       False       False       False       False       False       False  \n",
              "4       False       False       False       False       False       False  \n",
              "\n",
              "[5 rows x 28 columns]"
            ]
          },
          "execution_count": 12,
          "metadata": {},
          "output_type": "execute_result"
        }
      ],
      "source": [
        "dt_encoded = pd.get_dummies(dt['Airline'], prefix='Airline')\n",
        "dt = pd.concat([dt, dt_encoded], axis=1)\n",
        "dt.head()"
      ]
    },
    {
      "cell_type": "code",
      "execution_count": 13,
      "metadata": {
        "colab": {
          "base_uri": "https://localhost:8080/"
        },
        "id": "Aj8Wy4cub1Cf",
        "outputId": "a43e65d0-e975-49fc-d095-c71a7540ea71"
      },
      "outputs": [
        {
          "name": "stdout",
          "output_type": "stream",
          "text": [
            "<class 'pandas.core.frame.DataFrame'>\n",
            "RangeIndex: 539383 entries, 0 to 539382\n",
            "Data columns (total 28 columns):\n",
            " #   Column       Non-Null Count   Dtype  \n",
            "---  ------       --------------   -----  \n",
            " 0   id           539383 non-null  int64  \n",
            " 1   Airline      539383 non-null  object \n",
            " 2   Flight       539383 non-null  int64  \n",
            " 3   AirportFrom  539383 non-null  object \n",
            " 4   AirportTo    539383 non-null  object \n",
            " 5   DayOfWeek    539383 non-null  int64  \n",
            " 6   Time         539383 non-null  int64  \n",
            " 7   Length       539383 non-null  int64  \n",
            " 8   Delay        539383 non-null  int64  \n",
            " 9   Flight_freq  539383 non-null  float64\n",
            " 10  Airline_9E   539383 non-null  bool   \n",
            " 11  Airline_AA   539383 non-null  bool   \n",
            " 12  Airline_AS   539383 non-null  bool   \n",
            " 13  Airline_B6   539383 non-null  bool   \n",
            " 14  Airline_CO   539383 non-null  bool   \n",
            " 15  Airline_DL   539383 non-null  bool   \n",
            " 16  Airline_EV   539383 non-null  bool   \n",
            " 17  Airline_F9   539383 non-null  bool   \n",
            " 18  Airline_FL   539383 non-null  bool   \n",
            " 19  Airline_HA   539383 non-null  bool   \n",
            " 20  Airline_MQ   539383 non-null  bool   \n",
            " 21  Airline_OH   539383 non-null  bool   \n",
            " 22  Airline_OO   539383 non-null  bool   \n",
            " 23  Airline_UA   539383 non-null  bool   \n",
            " 24  Airline_US   539383 non-null  bool   \n",
            " 25  Airline_WN   539383 non-null  bool   \n",
            " 26  Airline_XE   539383 non-null  bool   \n",
            " 27  Airline_YV   539383 non-null  bool   \n",
            "dtypes: bool(18), float64(1), int64(6), object(3)\n",
            "memory usage: 50.4+ MB\n"
          ]
        }
      ],
      "source": [
        "dt.info()"
      ]
    },
    {
      "cell_type": "markdown",
      "metadata": {
        "id": "DV8D0BXLcXZM"
      },
      "source": [
        "Analisando e tratando as variáveis 'AirportFrom' e 'AirportTo'"
      ]
    },
    {
      "cell_type": "markdown",
      "metadata": {
        "id": "9-HDx8UtfXkC"
      },
      "source": [
        "**AirportFrom** e **AirportTo** são variáveis categóricas nominais de alta cardinalidade, com 293 valores únicos cada uma. Será usado *Frequency Encoding* para tratá-las."
      ]
    },
    {
      "cell_type": "code",
      "execution_count": 14,
      "metadata": {
        "colab": {
          "base_uri": "https://localhost:8080/",
          "height": 236
        },
        "id": "-2wXm89XgOVI",
        "outputId": "49ff5cf4-859a-4eb9-ac27-b5e533067974"
      },
      "outputs": [
        {
          "data": {
            "text/html": [
              "<div>\n",
              "<style scoped>\n",
              "    .dataframe tbody tr th:only-of-type {\n",
              "        vertical-align: middle;\n",
              "    }\n",
              "\n",
              "    .dataframe tbody tr th {\n",
              "        vertical-align: top;\n",
              "    }\n",
              "\n",
              "    .dataframe thead th {\n",
              "        text-align: right;\n",
              "    }\n",
              "</style>\n",
              "<table border=\"1\" class=\"dataframe\">\n",
              "  <thead>\n",
              "    <tr style=\"text-align: right;\">\n",
              "      <th></th>\n",
              "      <th>id</th>\n",
              "      <th>Airline</th>\n",
              "      <th>Flight</th>\n",
              "      <th>AirportFrom</th>\n",
              "      <th>AirportTo</th>\n",
              "      <th>DayOfWeek</th>\n",
              "      <th>Time</th>\n",
              "      <th>Length</th>\n",
              "      <th>Delay</th>\n",
              "      <th>Flight_freq</th>\n",
              "      <th>...</th>\n",
              "      <th>Airline_MQ</th>\n",
              "      <th>Airline_OH</th>\n",
              "      <th>Airline_OO</th>\n",
              "      <th>Airline_UA</th>\n",
              "      <th>Airline_US</th>\n",
              "      <th>Airline_WN</th>\n",
              "      <th>Airline_XE</th>\n",
              "      <th>Airline_YV</th>\n",
              "      <th>AirportFrom_freq</th>\n",
              "      <th>AirportTo_freq</th>\n",
              "    </tr>\n",
              "  </thead>\n",
              "  <tbody>\n",
              "    <tr>\n",
              "      <th>0</th>\n",
              "      <td>1</td>\n",
              "      <td>CO</td>\n",
              "      <td>269</td>\n",
              "      <td>SFO</td>\n",
              "      <td>IAH</td>\n",
              "      <td>3</td>\n",
              "      <td>15</td>\n",
              "      <td>205</td>\n",
              "      <td>1</td>\n",
              "      <td>0.000326</td>\n",
              "      <td>...</td>\n",
              "      <td>False</td>\n",
              "      <td>False</td>\n",
              "      <td>False</td>\n",
              "      <td>False</td>\n",
              "      <td>False</td>\n",
              "      <td>False</td>\n",
              "      <td>False</td>\n",
              "      <td>False</td>\n",
              "      <td>0.021851</td>\n",
              "      <td>0.029328</td>\n",
              "    </tr>\n",
              "    <tr>\n",
              "      <th>1</th>\n",
              "      <td>2</td>\n",
              "      <td>US</td>\n",
              "      <td>1558</td>\n",
              "      <td>PHX</td>\n",
              "      <td>CLT</td>\n",
              "      <td>3</td>\n",
              "      <td>15</td>\n",
              "      <td>222</td>\n",
              "      <td>1</td>\n",
              "      <td>0.000332</td>\n",
              "      <td>...</td>\n",
              "      <td>False</td>\n",
              "      <td>False</td>\n",
              "      <td>False</td>\n",
              "      <td>False</td>\n",
              "      <td>True</td>\n",
              "      <td>False</td>\n",
              "      <td>False</td>\n",
              "      <td>False</td>\n",
              "      <td>0.028842</td>\n",
              "      <td>0.020638</td>\n",
              "    </tr>\n",
              "    <tr>\n",
              "      <th>2</th>\n",
              "      <td>3</td>\n",
              "      <td>AA</td>\n",
              "      <td>2400</td>\n",
              "      <td>LAX</td>\n",
              "      <td>DFW</td>\n",
              "      <td>3</td>\n",
              "      <td>20</td>\n",
              "      <td>165</td>\n",
              "      <td>1</td>\n",
              "      <td>0.000161</td>\n",
              "      <td>...</td>\n",
              "      <td>False</td>\n",
              "      <td>False</td>\n",
              "      <td>False</td>\n",
              "      <td>False</td>\n",
              "      <td>False</td>\n",
              "      <td>False</td>\n",
              "      <td>False</td>\n",
              "      <td>False</td>\n",
              "      <td>0.030882</td>\n",
              "      <td>0.041071</td>\n",
              "    </tr>\n",
              "    <tr>\n",
              "      <th>3</th>\n",
              "      <td>4</td>\n",
              "      <td>AA</td>\n",
              "      <td>2466</td>\n",
              "      <td>SFO</td>\n",
              "      <td>DFW</td>\n",
              "      <td>3</td>\n",
              "      <td>20</td>\n",
              "      <td>195</td>\n",
              "      <td>1</td>\n",
              "      <td>0.000271</td>\n",
              "      <td>...</td>\n",
              "      <td>False</td>\n",
              "      <td>False</td>\n",
              "      <td>False</td>\n",
              "      <td>False</td>\n",
              "      <td>False</td>\n",
              "      <td>False</td>\n",
              "      <td>False</td>\n",
              "      <td>False</td>\n",
              "      <td>0.021851</td>\n",
              "      <td>0.041071</td>\n",
              "    </tr>\n",
              "    <tr>\n",
              "      <th>4</th>\n",
              "      <td>5</td>\n",
              "      <td>AS</td>\n",
              "      <td>108</td>\n",
              "      <td>ANC</td>\n",
              "      <td>SEA</td>\n",
              "      <td>3</td>\n",
              "      <td>30</td>\n",
              "      <td>202</td>\n",
              "      <td>0</td>\n",
              "      <td>0.000393</td>\n",
              "      <td>...</td>\n",
              "      <td>False</td>\n",
              "      <td>False</td>\n",
              "      <td>False</td>\n",
              "      <td>False</td>\n",
              "      <td>False</td>\n",
              "      <td>False</td>\n",
              "      <td>False</td>\n",
              "      <td>False</td>\n",
              "      <td>0.002423</td>\n",
              "      <td>0.014910</td>\n",
              "    </tr>\n",
              "  </tbody>\n",
              "</table>\n",
              "<p>5 rows × 30 columns</p>\n",
              "</div>"
            ],
            "text/plain": [
              "   id Airline  Flight AirportFrom AirportTo  DayOfWeek  Time  Length  Delay  \\\n",
              "0   1      CO     269         SFO       IAH          3    15     205      1   \n",
              "1   2      US    1558         PHX       CLT          3    15     222      1   \n",
              "2   3      AA    2400         LAX       DFW          3    20     165      1   \n",
              "3   4      AA    2466         SFO       DFW          3    20     195      1   \n",
              "4   5      AS     108         ANC       SEA          3    30     202      0   \n",
              "\n",
              "   Flight_freq  ...  Airline_MQ  Airline_OH  Airline_OO  Airline_UA  \\\n",
              "0     0.000326  ...       False       False       False       False   \n",
              "1     0.000332  ...       False       False       False       False   \n",
              "2     0.000161  ...       False       False       False       False   \n",
              "3     0.000271  ...       False       False       False       False   \n",
              "4     0.000393  ...       False       False       False       False   \n",
              "\n",
              "   Airline_US  Airline_WN  Airline_XE  Airline_YV  AirportFrom_freq  \\\n",
              "0       False       False       False       False          0.021851   \n",
              "1        True       False       False       False          0.028842   \n",
              "2       False       False       False       False          0.030882   \n",
              "3       False       False       False       False          0.021851   \n",
              "4       False       False       False       False          0.002423   \n",
              "\n",
              "   AirportTo_freq  \n",
              "0        0.029328  \n",
              "1        0.020638  \n",
              "2        0.041071  \n",
              "3        0.041071  \n",
              "4        0.014910  \n",
              "\n",
              "[5 rows x 30 columns]"
            ]
          },
          "execution_count": 14,
          "metadata": {},
          "output_type": "execute_result"
        }
      ],
      "source": [
        "for col in ['AirportFrom', 'AirportTo']:\n",
        "    freq = dt[col].value_counts(normalize=True)\n",
        "    dt[col + '_freq'] = dt[col].map(freq)\n",
        "\n",
        "dt.head()"
      ]
    },
    {
      "cell_type": "markdown",
      "metadata": {
        "id": "ggOuzCyWhlNO"
      },
      "source": [
        "Analisando a variável DayOfWeek."
      ]
    },
    {
      "cell_type": "markdown",
      "metadata": {
        "id": "0x_YfzxrhsQ-"
      },
      "source": [
        "**DayOfWeek** é uma variável categórica ordinal cíclica. Será tranformada em seno e cosseno."
      ]
    },
    {
      "cell_type": "code",
      "execution_count": 15,
      "metadata": {
        "colab": {
          "base_uri": "https://localhost:8080/",
          "height": 392
        },
        "id": "DwaalZQ3k6gf",
        "outputId": "7da2c914-dd52-4fcd-8d5b-f55cca435b59"
      },
      "outputs": [
        {
          "data": {
            "text/html": [
              "<div>\n",
              "<style scoped>\n",
              "    .dataframe tbody tr th:only-of-type {\n",
              "        vertical-align: middle;\n",
              "    }\n",
              "\n",
              "    .dataframe tbody tr th {\n",
              "        vertical-align: top;\n",
              "    }\n",
              "\n",
              "    .dataframe thead th {\n",
              "        text-align: right;\n",
              "    }\n",
              "</style>\n",
              "<table border=\"1\" class=\"dataframe\">\n",
              "  <thead>\n",
              "    <tr style=\"text-align: right;\">\n",
              "      <th></th>\n",
              "      <th>id</th>\n",
              "      <th>Airline</th>\n",
              "      <th>Flight</th>\n",
              "      <th>AirportFrom</th>\n",
              "      <th>AirportTo</th>\n",
              "      <th>DayOfWeek</th>\n",
              "      <th>Time</th>\n",
              "      <th>Length</th>\n",
              "      <th>Delay</th>\n",
              "      <th>Flight_freq</th>\n",
              "      <th>...</th>\n",
              "      <th>Airline_OO</th>\n",
              "      <th>Airline_UA</th>\n",
              "      <th>Airline_US</th>\n",
              "      <th>Airline_WN</th>\n",
              "      <th>Airline_XE</th>\n",
              "      <th>Airline_YV</th>\n",
              "      <th>AirportFrom_freq</th>\n",
              "      <th>AirportTo_freq</th>\n",
              "      <th>DayOfWeek_sin</th>\n",
              "      <th>DayOfWeek_cos</th>\n",
              "    </tr>\n",
              "  </thead>\n",
              "  <tbody>\n",
              "    <tr>\n",
              "      <th>0</th>\n",
              "      <td>1</td>\n",
              "      <td>CO</td>\n",
              "      <td>269</td>\n",
              "      <td>SFO</td>\n",
              "      <td>IAH</td>\n",
              "      <td>3</td>\n",
              "      <td>15</td>\n",
              "      <td>205</td>\n",
              "      <td>1</td>\n",
              "      <td>0.000326</td>\n",
              "      <td>...</td>\n",
              "      <td>False</td>\n",
              "      <td>False</td>\n",
              "      <td>False</td>\n",
              "      <td>False</td>\n",
              "      <td>False</td>\n",
              "      <td>False</td>\n",
              "      <td>0.021851</td>\n",
              "      <td>0.029328</td>\n",
              "      <td>0.433884</td>\n",
              "      <td>-0.900969</td>\n",
              "    </tr>\n",
              "    <tr>\n",
              "      <th>1</th>\n",
              "      <td>2</td>\n",
              "      <td>US</td>\n",
              "      <td>1558</td>\n",
              "      <td>PHX</td>\n",
              "      <td>CLT</td>\n",
              "      <td>3</td>\n",
              "      <td>15</td>\n",
              "      <td>222</td>\n",
              "      <td>1</td>\n",
              "      <td>0.000332</td>\n",
              "      <td>...</td>\n",
              "      <td>False</td>\n",
              "      <td>False</td>\n",
              "      <td>True</td>\n",
              "      <td>False</td>\n",
              "      <td>False</td>\n",
              "      <td>False</td>\n",
              "      <td>0.028842</td>\n",
              "      <td>0.020638</td>\n",
              "      <td>0.433884</td>\n",
              "      <td>-0.900969</td>\n",
              "    </tr>\n",
              "    <tr>\n",
              "      <th>2</th>\n",
              "      <td>3</td>\n",
              "      <td>AA</td>\n",
              "      <td>2400</td>\n",
              "      <td>LAX</td>\n",
              "      <td>DFW</td>\n",
              "      <td>3</td>\n",
              "      <td>20</td>\n",
              "      <td>165</td>\n",
              "      <td>1</td>\n",
              "      <td>0.000161</td>\n",
              "      <td>...</td>\n",
              "      <td>False</td>\n",
              "      <td>False</td>\n",
              "      <td>False</td>\n",
              "      <td>False</td>\n",
              "      <td>False</td>\n",
              "      <td>False</td>\n",
              "      <td>0.030882</td>\n",
              "      <td>0.041071</td>\n",
              "      <td>0.433884</td>\n",
              "      <td>-0.900969</td>\n",
              "    </tr>\n",
              "    <tr>\n",
              "      <th>3</th>\n",
              "      <td>4</td>\n",
              "      <td>AA</td>\n",
              "      <td>2466</td>\n",
              "      <td>SFO</td>\n",
              "      <td>DFW</td>\n",
              "      <td>3</td>\n",
              "      <td>20</td>\n",
              "      <td>195</td>\n",
              "      <td>1</td>\n",
              "      <td>0.000271</td>\n",
              "      <td>...</td>\n",
              "      <td>False</td>\n",
              "      <td>False</td>\n",
              "      <td>False</td>\n",
              "      <td>False</td>\n",
              "      <td>False</td>\n",
              "      <td>False</td>\n",
              "      <td>0.021851</td>\n",
              "      <td>0.041071</td>\n",
              "      <td>0.433884</td>\n",
              "      <td>-0.900969</td>\n",
              "    </tr>\n",
              "    <tr>\n",
              "      <th>4</th>\n",
              "      <td>5</td>\n",
              "      <td>AS</td>\n",
              "      <td>108</td>\n",
              "      <td>ANC</td>\n",
              "      <td>SEA</td>\n",
              "      <td>3</td>\n",
              "      <td>30</td>\n",
              "      <td>202</td>\n",
              "      <td>0</td>\n",
              "      <td>0.000393</td>\n",
              "      <td>...</td>\n",
              "      <td>False</td>\n",
              "      <td>False</td>\n",
              "      <td>False</td>\n",
              "      <td>False</td>\n",
              "      <td>False</td>\n",
              "      <td>False</td>\n",
              "      <td>0.002423</td>\n",
              "      <td>0.014910</td>\n",
              "      <td>0.433884</td>\n",
              "      <td>-0.900969</td>\n",
              "    </tr>\n",
              "    <tr>\n",
              "      <th>5</th>\n",
              "      <td>6</td>\n",
              "      <td>CO</td>\n",
              "      <td>1094</td>\n",
              "      <td>LAX</td>\n",
              "      <td>IAH</td>\n",
              "      <td>3</td>\n",
              "      <td>30</td>\n",
              "      <td>181</td>\n",
              "      <td>1</td>\n",
              "      <td>0.000311</td>\n",
              "      <td>...</td>\n",
              "      <td>False</td>\n",
              "      <td>False</td>\n",
              "      <td>False</td>\n",
              "      <td>False</td>\n",
              "      <td>False</td>\n",
              "      <td>False</td>\n",
              "      <td>0.030882</td>\n",
              "      <td>0.029328</td>\n",
              "      <td>0.433884</td>\n",
              "      <td>-0.900969</td>\n",
              "    </tr>\n",
              "    <tr>\n",
              "      <th>6</th>\n",
              "      <td>7</td>\n",
              "      <td>DL</td>\n",
              "      <td>1768</td>\n",
              "      <td>LAX</td>\n",
              "      <td>MSP</td>\n",
              "      <td>3</td>\n",
              "      <td>30</td>\n",
              "      <td>220</td>\n",
              "      <td>0</td>\n",
              "      <td>0.000224</td>\n",
              "      <td>...</td>\n",
              "      <td>False</td>\n",
              "      <td>False</td>\n",
              "      <td>False</td>\n",
              "      <td>False</td>\n",
              "      <td>False</td>\n",
              "      <td>False</td>\n",
              "      <td>0.030882</td>\n",
              "      <td>0.018875</td>\n",
              "      <td>0.433884</td>\n",
              "      <td>-0.900969</td>\n",
              "    </tr>\n",
              "    <tr>\n",
              "      <th>7</th>\n",
              "      <td>8</td>\n",
              "      <td>DL</td>\n",
              "      <td>2722</td>\n",
              "      <td>PHX</td>\n",
              "      <td>DTW</td>\n",
              "      <td>3</td>\n",
              "      <td>30</td>\n",
              "      <td>228</td>\n",
              "      <td>0</td>\n",
              "      <td>0.000200</td>\n",
              "      <td>...</td>\n",
              "      <td>False</td>\n",
              "      <td>False</td>\n",
              "      <td>False</td>\n",
              "      <td>False</td>\n",
              "      <td>False</td>\n",
              "      <td>False</td>\n",
              "      <td>0.028842</td>\n",
              "      <td>0.024372</td>\n",
              "      <td>0.433884</td>\n",
              "      <td>-0.900969</td>\n",
              "    </tr>\n",
              "    <tr>\n",
              "      <th>8</th>\n",
              "      <td>9</td>\n",
              "      <td>DL</td>\n",
              "      <td>2606</td>\n",
              "      <td>SFO</td>\n",
              "      <td>MSP</td>\n",
              "      <td>3</td>\n",
              "      <td>35</td>\n",
              "      <td>216</td>\n",
              "      <td>1</td>\n",
              "      <td>0.000154</td>\n",
              "      <td>...</td>\n",
              "      <td>False</td>\n",
              "      <td>False</td>\n",
              "      <td>False</td>\n",
              "      <td>False</td>\n",
              "      <td>False</td>\n",
              "      <td>False</td>\n",
              "      <td>0.021851</td>\n",
              "      <td>0.018875</td>\n",
              "      <td>0.433884</td>\n",
              "      <td>-0.900969</td>\n",
              "    </tr>\n",
              "    <tr>\n",
              "      <th>9</th>\n",
              "      <td>10</td>\n",
              "      <td>AA</td>\n",
              "      <td>2538</td>\n",
              "      <td>LAS</td>\n",
              "      <td>ORD</td>\n",
              "      <td>3</td>\n",
              "      <td>40</td>\n",
              "      <td>200</td>\n",
              "      <td>1</td>\n",
              "      <td>0.000187</td>\n",
              "      <td>...</td>\n",
              "      <td>False</td>\n",
              "      <td>False</td>\n",
              "      <td>False</td>\n",
              "      <td>False</td>\n",
              "      <td>False</td>\n",
              "      <td>False</td>\n",
              "      <td>0.022096</td>\n",
              "      <td>0.046110</td>\n",
              "      <td>0.433884</td>\n",
              "      <td>-0.900969</td>\n",
              "    </tr>\n",
              "  </tbody>\n",
              "</table>\n",
              "<p>10 rows × 32 columns</p>\n",
              "</div>"
            ],
            "text/plain": [
              "   id Airline  Flight AirportFrom AirportTo  DayOfWeek  Time  Length  Delay  \\\n",
              "0   1      CO     269         SFO       IAH          3    15     205      1   \n",
              "1   2      US    1558         PHX       CLT          3    15     222      1   \n",
              "2   3      AA    2400         LAX       DFW          3    20     165      1   \n",
              "3   4      AA    2466         SFO       DFW          3    20     195      1   \n",
              "4   5      AS     108         ANC       SEA          3    30     202      0   \n",
              "5   6      CO    1094         LAX       IAH          3    30     181      1   \n",
              "6   7      DL    1768         LAX       MSP          3    30     220      0   \n",
              "7   8      DL    2722         PHX       DTW          3    30     228      0   \n",
              "8   9      DL    2606         SFO       MSP          3    35     216      1   \n",
              "9  10      AA    2538         LAS       ORD          3    40     200      1   \n",
              "\n",
              "   Flight_freq  ...  Airline_OO  Airline_UA  Airline_US  Airline_WN  \\\n",
              "0     0.000326  ...       False       False       False       False   \n",
              "1     0.000332  ...       False       False        True       False   \n",
              "2     0.000161  ...       False       False       False       False   \n",
              "3     0.000271  ...       False       False       False       False   \n",
              "4     0.000393  ...       False       False       False       False   \n",
              "5     0.000311  ...       False       False       False       False   \n",
              "6     0.000224  ...       False       False       False       False   \n",
              "7     0.000200  ...       False       False       False       False   \n",
              "8     0.000154  ...       False       False       False       False   \n",
              "9     0.000187  ...       False       False       False       False   \n",
              "\n",
              "   Airline_XE  Airline_YV  AirportFrom_freq  AirportTo_freq  DayOfWeek_sin  \\\n",
              "0       False       False          0.021851        0.029328       0.433884   \n",
              "1       False       False          0.028842        0.020638       0.433884   \n",
              "2       False       False          0.030882        0.041071       0.433884   \n",
              "3       False       False          0.021851        0.041071       0.433884   \n",
              "4       False       False          0.002423        0.014910       0.433884   \n",
              "5       False       False          0.030882        0.029328       0.433884   \n",
              "6       False       False          0.030882        0.018875       0.433884   \n",
              "7       False       False          0.028842        0.024372       0.433884   \n",
              "8       False       False          0.021851        0.018875       0.433884   \n",
              "9       False       False          0.022096        0.046110       0.433884   \n",
              "\n",
              "   DayOfWeek_cos  \n",
              "0      -0.900969  \n",
              "1      -0.900969  \n",
              "2      -0.900969  \n",
              "3      -0.900969  \n",
              "4      -0.900969  \n",
              "5      -0.900969  \n",
              "6      -0.900969  \n",
              "7      -0.900969  \n",
              "8      -0.900969  \n",
              "9      -0.900969  \n",
              "\n",
              "[10 rows x 32 columns]"
            ]
          },
          "execution_count": 15,
          "metadata": {},
          "output_type": "execute_result"
        }
      ],
      "source": [
        "dt['DayOfWeek_sin'] = np.sin(2 * np.pi * dt['DayOfWeek'] / 7)\n",
        "dt['DayOfWeek_cos'] = np.cos(2 * np.pi * dt['DayOfWeek'] / 7)\n",
        "dt.head(10)"
      ]
    },
    {
      "cell_type": "markdown",
      "metadata": {
        "id": "7D2hcsqyG6mX"
      },
      "source": [
        "Analisando a variável Time"
      ]
    },
    {
      "cell_type": "markdown",
      "metadata": {
        "id": "vVfplT--G55l"
      },
      "source": [
        "Time é uma variável categórica contínua cíclica que refere-se ao tempo em minutos a partir de meia-noite. Será tranformada em seno e cosseno."
      ]
    },
    {
      "cell_type": "code",
      "execution_count": 16,
      "metadata": {
        "id": "BRed5uenMaUc"
      },
      "outputs": [],
      "source": [
        "dt['Time_sin'] = np.sin(2 * np.pi * dt['Time'] / (24 * 60))\n",
        "dt['Time_cos'] = np.cos(2 * np.pi * dt['Time'] / (24 * 60))"
      ]
    },
    {
      "cell_type": "code",
      "execution_count": 17,
      "metadata": {
        "colab": {
          "base_uri": "https://localhost:8080/",
          "height": 236
        },
        "id": "cSOd1SvoO0kF",
        "outputId": "cdbd698d-2cb7-4983-bffb-81cd1128533e"
      },
      "outputs": [
        {
          "data": {
            "text/html": [
              "<div>\n",
              "<style scoped>\n",
              "    .dataframe tbody tr th:only-of-type {\n",
              "        vertical-align: middle;\n",
              "    }\n",
              "\n",
              "    .dataframe tbody tr th {\n",
              "        vertical-align: top;\n",
              "    }\n",
              "\n",
              "    .dataframe thead th {\n",
              "        text-align: right;\n",
              "    }\n",
              "</style>\n",
              "<table border=\"1\" class=\"dataframe\">\n",
              "  <thead>\n",
              "    <tr style=\"text-align: right;\">\n",
              "      <th></th>\n",
              "      <th>id</th>\n",
              "      <th>Airline</th>\n",
              "      <th>Flight</th>\n",
              "      <th>AirportFrom</th>\n",
              "      <th>AirportTo</th>\n",
              "      <th>DayOfWeek</th>\n",
              "      <th>Time</th>\n",
              "      <th>Length</th>\n",
              "      <th>Delay</th>\n",
              "      <th>Flight_freq</th>\n",
              "      <th>...</th>\n",
              "      <th>Airline_US</th>\n",
              "      <th>Airline_WN</th>\n",
              "      <th>Airline_XE</th>\n",
              "      <th>Airline_YV</th>\n",
              "      <th>AirportFrom_freq</th>\n",
              "      <th>AirportTo_freq</th>\n",
              "      <th>DayOfWeek_sin</th>\n",
              "      <th>DayOfWeek_cos</th>\n",
              "      <th>Time_sin</th>\n",
              "      <th>Time_cos</th>\n",
              "    </tr>\n",
              "  </thead>\n",
              "  <tbody>\n",
              "    <tr>\n",
              "      <th>0</th>\n",
              "      <td>1</td>\n",
              "      <td>CO</td>\n",
              "      <td>269</td>\n",
              "      <td>SFO</td>\n",
              "      <td>IAH</td>\n",
              "      <td>3</td>\n",
              "      <td>15</td>\n",
              "      <td>205</td>\n",
              "      <td>1</td>\n",
              "      <td>0.000326</td>\n",
              "      <td>...</td>\n",
              "      <td>False</td>\n",
              "      <td>False</td>\n",
              "      <td>False</td>\n",
              "      <td>False</td>\n",
              "      <td>0.021851</td>\n",
              "      <td>0.029328</td>\n",
              "      <td>0.433884</td>\n",
              "      <td>-0.900969</td>\n",
              "      <td>0.065403</td>\n",
              "      <td>0.997859</td>\n",
              "    </tr>\n",
              "    <tr>\n",
              "      <th>1</th>\n",
              "      <td>2</td>\n",
              "      <td>US</td>\n",
              "      <td>1558</td>\n",
              "      <td>PHX</td>\n",
              "      <td>CLT</td>\n",
              "      <td>3</td>\n",
              "      <td>15</td>\n",
              "      <td>222</td>\n",
              "      <td>1</td>\n",
              "      <td>0.000332</td>\n",
              "      <td>...</td>\n",
              "      <td>True</td>\n",
              "      <td>False</td>\n",
              "      <td>False</td>\n",
              "      <td>False</td>\n",
              "      <td>0.028842</td>\n",
              "      <td>0.020638</td>\n",
              "      <td>0.433884</td>\n",
              "      <td>-0.900969</td>\n",
              "      <td>0.065403</td>\n",
              "      <td>0.997859</td>\n",
              "    </tr>\n",
              "    <tr>\n",
              "      <th>2</th>\n",
              "      <td>3</td>\n",
              "      <td>AA</td>\n",
              "      <td>2400</td>\n",
              "      <td>LAX</td>\n",
              "      <td>DFW</td>\n",
              "      <td>3</td>\n",
              "      <td>20</td>\n",
              "      <td>165</td>\n",
              "      <td>1</td>\n",
              "      <td>0.000161</td>\n",
              "      <td>...</td>\n",
              "      <td>False</td>\n",
              "      <td>False</td>\n",
              "      <td>False</td>\n",
              "      <td>False</td>\n",
              "      <td>0.030882</td>\n",
              "      <td>0.041071</td>\n",
              "      <td>0.433884</td>\n",
              "      <td>-0.900969</td>\n",
              "      <td>0.087156</td>\n",
              "      <td>0.996195</td>\n",
              "    </tr>\n",
              "    <tr>\n",
              "      <th>3</th>\n",
              "      <td>4</td>\n",
              "      <td>AA</td>\n",
              "      <td>2466</td>\n",
              "      <td>SFO</td>\n",
              "      <td>DFW</td>\n",
              "      <td>3</td>\n",
              "      <td>20</td>\n",
              "      <td>195</td>\n",
              "      <td>1</td>\n",
              "      <td>0.000271</td>\n",
              "      <td>...</td>\n",
              "      <td>False</td>\n",
              "      <td>False</td>\n",
              "      <td>False</td>\n",
              "      <td>False</td>\n",
              "      <td>0.021851</td>\n",
              "      <td>0.041071</td>\n",
              "      <td>0.433884</td>\n",
              "      <td>-0.900969</td>\n",
              "      <td>0.087156</td>\n",
              "      <td>0.996195</td>\n",
              "    </tr>\n",
              "    <tr>\n",
              "      <th>4</th>\n",
              "      <td>5</td>\n",
              "      <td>AS</td>\n",
              "      <td>108</td>\n",
              "      <td>ANC</td>\n",
              "      <td>SEA</td>\n",
              "      <td>3</td>\n",
              "      <td>30</td>\n",
              "      <td>202</td>\n",
              "      <td>0</td>\n",
              "      <td>0.000393</td>\n",
              "      <td>...</td>\n",
              "      <td>False</td>\n",
              "      <td>False</td>\n",
              "      <td>False</td>\n",
              "      <td>False</td>\n",
              "      <td>0.002423</td>\n",
              "      <td>0.014910</td>\n",
              "      <td>0.433884</td>\n",
              "      <td>-0.900969</td>\n",
              "      <td>0.130526</td>\n",
              "      <td>0.991445</td>\n",
              "    </tr>\n",
              "  </tbody>\n",
              "</table>\n",
              "<p>5 rows × 34 columns</p>\n",
              "</div>"
            ],
            "text/plain": [
              "   id Airline  Flight AirportFrom AirportTo  DayOfWeek  Time  Length  Delay  \\\n",
              "0   1      CO     269         SFO       IAH          3    15     205      1   \n",
              "1   2      US    1558         PHX       CLT          3    15     222      1   \n",
              "2   3      AA    2400         LAX       DFW          3    20     165      1   \n",
              "3   4      AA    2466         SFO       DFW          3    20     195      1   \n",
              "4   5      AS     108         ANC       SEA          3    30     202      0   \n",
              "\n",
              "   Flight_freq  ...  Airline_US  Airline_WN  Airline_XE  Airline_YV  \\\n",
              "0     0.000326  ...       False       False       False       False   \n",
              "1     0.000332  ...        True       False       False       False   \n",
              "2     0.000161  ...       False       False       False       False   \n",
              "3     0.000271  ...       False       False       False       False   \n",
              "4     0.000393  ...       False       False       False       False   \n",
              "\n",
              "   AirportFrom_freq  AirportTo_freq  DayOfWeek_sin  DayOfWeek_cos  Time_sin  \\\n",
              "0          0.021851        0.029328       0.433884      -0.900969  0.065403   \n",
              "1          0.028842        0.020638       0.433884      -0.900969  0.065403   \n",
              "2          0.030882        0.041071       0.433884      -0.900969  0.087156   \n",
              "3          0.021851        0.041071       0.433884      -0.900969  0.087156   \n",
              "4          0.002423        0.014910       0.433884      -0.900969  0.130526   \n",
              "\n",
              "   Time_cos  \n",
              "0  0.997859  \n",
              "1  0.997859  \n",
              "2  0.996195  \n",
              "3  0.996195  \n",
              "4  0.991445  \n",
              "\n",
              "[5 rows x 34 columns]"
            ]
          },
          "execution_count": 17,
          "metadata": {},
          "output_type": "execute_result"
        }
      ],
      "source": [
        "dt.head()"
      ]
    },
    {
      "cell_type": "code",
      "execution_count": 18,
      "metadata": {
        "colab": {
          "base_uri": "https://localhost:8080/",
          "height": 236
        },
        "id": "v4uF-CMDPNiq",
        "outputId": "212cf640-82ee-44fb-93b1-b1384f06e51b"
      },
      "outputs": [
        {
          "data": {
            "text/html": [
              "<div>\n",
              "<style scoped>\n",
              "    .dataframe tbody tr th:only-of-type {\n",
              "        vertical-align: middle;\n",
              "    }\n",
              "\n",
              "    .dataframe tbody tr th {\n",
              "        vertical-align: top;\n",
              "    }\n",
              "\n",
              "    .dataframe thead th {\n",
              "        text-align: right;\n",
              "    }\n",
              "</style>\n",
              "<table border=\"1\" class=\"dataframe\">\n",
              "  <thead>\n",
              "    <tr style=\"text-align: right;\">\n",
              "      <th></th>\n",
              "      <th>Length</th>\n",
              "      <th>Delay</th>\n",
              "      <th>Flight_freq</th>\n",
              "      <th>Airline_9E</th>\n",
              "      <th>Airline_AA</th>\n",
              "      <th>Airline_AS</th>\n",
              "      <th>Airline_B6</th>\n",
              "      <th>Airline_CO</th>\n",
              "      <th>Airline_DL</th>\n",
              "      <th>Airline_EV</th>\n",
              "      <th>...</th>\n",
              "      <th>Airline_US</th>\n",
              "      <th>Airline_WN</th>\n",
              "      <th>Airline_XE</th>\n",
              "      <th>Airline_YV</th>\n",
              "      <th>AirportFrom_freq</th>\n",
              "      <th>AirportTo_freq</th>\n",
              "      <th>DayOfWeek_sin</th>\n",
              "      <th>DayOfWeek_cos</th>\n",
              "      <th>Time_sin</th>\n",
              "      <th>Time_cos</th>\n",
              "    </tr>\n",
              "  </thead>\n",
              "  <tbody>\n",
              "    <tr>\n",
              "      <th>0</th>\n",
              "      <td>205</td>\n",
              "      <td>1</td>\n",
              "      <td>0.000326</td>\n",
              "      <td>False</td>\n",
              "      <td>False</td>\n",
              "      <td>False</td>\n",
              "      <td>False</td>\n",
              "      <td>True</td>\n",
              "      <td>False</td>\n",
              "      <td>False</td>\n",
              "      <td>...</td>\n",
              "      <td>False</td>\n",
              "      <td>False</td>\n",
              "      <td>False</td>\n",
              "      <td>False</td>\n",
              "      <td>0.021851</td>\n",
              "      <td>0.029328</td>\n",
              "      <td>0.433884</td>\n",
              "      <td>-0.900969</td>\n",
              "      <td>0.065403</td>\n",
              "      <td>0.997859</td>\n",
              "    </tr>\n",
              "    <tr>\n",
              "      <th>1</th>\n",
              "      <td>222</td>\n",
              "      <td>1</td>\n",
              "      <td>0.000332</td>\n",
              "      <td>False</td>\n",
              "      <td>False</td>\n",
              "      <td>False</td>\n",
              "      <td>False</td>\n",
              "      <td>False</td>\n",
              "      <td>False</td>\n",
              "      <td>False</td>\n",
              "      <td>...</td>\n",
              "      <td>True</td>\n",
              "      <td>False</td>\n",
              "      <td>False</td>\n",
              "      <td>False</td>\n",
              "      <td>0.028842</td>\n",
              "      <td>0.020638</td>\n",
              "      <td>0.433884</td>\n",
              "      <td>-0.900969</td>\n",
              "      <td>0.065403</td>\n",
              "      <td>0.997859</td>\n",
              "    </tr>\n",
              "    <tr>\n",
              "      <th>2</th>\n",
              "      <td>165</td>\n",
              "      <td>1</td>\n",
              "      <td>0.000161</td>\n",
              "      <td>False</td>\n",
              "      <td>True</td>\n",
              "      <td>False</td>\n",
              "      <td>False</td>\n",
              "      <td>False</td>\n",
              "      <td>False</td>\n",
              "      <td>False</td>\n",
              "      <td>...</td>\n",
              "      <td>False</td>\n",
              "      <td>False</td>\n",
              "      <td>False</td>\n",
              "      <td>False</td>\n",
              "      <td>0.030882</td>\n",
              "      <td>0.041071</td>\n",
              "      <td>0.433884</td>\n",
              "      <td>-0.900969</td>\n",
              "      <td>0.087156</td>\n",
              "      <td>0.996195</td>\n",
              "    </tr>\n",
              "    <tr>\n",
              "      <th>3</th>\n",
              "      <td>195</td>\n",
              "      <td>1</td>\n",
              "      <td>0.000271</td>\n",
              "      <td>False</td>\n",
              "      <td>True</td>\n",
              "      <td>False</td>\n",
              "      <td>False</td>\n",
              "      <td>False</td>\n",
              "      <td>False</td>\n",
              "      <td>False</td>\n",
              "      <td>...</td>\n",
              "      <td>False</td>\n",
              "      <td>False</td>\n",
              "      <td>False</td>\n",
              "      <td>False</td>\n",
              "      <td>0.021851</td>\n",
              "      <td>0.041071</td>\n",
              "      <td>0.433884</td>\n",
              "      <td>-0.900969</td>\n",
              "      <td>0.087156</td>\n",
              "      <td>0.996195</td>\n",
              "    </tr>\n",
              "    <tr>\n",
              "      <th>4</th>\n",
              "      <td>202</td>\n",
              "      <td>0</td>\n",
              "      <td>0.000393</td>\n",
              "      <td>False</td>\n",
              "      <td>False</td>\n",
              "      <td>True</td>\n",
              "      <td>False</td>\n",
              "      <td>False</td>\n",
              "      <td>False</td>\n",
              "      <td>False</td>\n",
              "      <td>...</td>\n",
              "      <td>False</td>\n",
              "      <td>False</td>\n",
              "      <td>False</td>\n",
              "      <td>False</td>\n",
              "      <td>0.002423</td>\n",
              "      <td>0.014910</td>\n",
              "      <td>0.433884</td>\n",
              "      <td>-0.900969</td>\n",
              "      <td>0.130526</td>\n",
              "      <td>0.991445</td>\n",
              "    </tr>\n",
              "  </tbody>\n",
              "</table>\n",
              "<p>5 rows × 27 columns</p>\n",
              "</div>"
            ],
            "text/plain": [
              "   Length  Delay  Flight_freq  Airline_9E  Airline_AA  Airline_AS  Airline_B6  \\\n",
              "0     205      1     0.000326       False       False       False       False   \n",
              "1     222      1     0.000332       False       False       False       False   \n",
              "2     165      1     0.000161       False        True       False       False   \n",
              "3     195      1     0.000271       False        True       False       False   \n",
              "4     202      0     0.000393       False       False        True       False   \n",
              "\n",
              "   Airline_CO  Airline_DL  Airline_EV  ...  Airline_US  Airline_WN  \\\n",
              "0        True       False       False  ...       False       False   \n",
              "1       False       False       False  ...        True       False   \n",
              "2       False       False       False  ...       False       False   \n",
              "3       False       False       False  ...       False       False   \n",
              "4       False       False       False  ...       False       False   \n",
              "\n",
              "   Airline_XE  Airline_YV  AirportFrom_freq  AirportTo_freq  DayOfWeek_sin  \\\n",
              "0       False       False          0.021851        0.029328       0.433884   \n",
              "1       False       False          0.028842        0.020638       0.433884   \n",
              "2       False       False          0.030882        0.041071       0.433884   \n",
              "3       False       False          0.021851        0.041071       0.433884   \n",
              "4       False       False          0.002423        0.014910       0.433884   \n",
              "\n",
              "   DayOfWeek_cos  Time_sin  Time_cos  \n",
              "0      -0.900969  0.065403  0.997859  \n",
              "1      -0.900969  0.065403  0.997859  \n",
              "2      -0.900969  0.087156  0.996195  \n",
              "3      -0.900969  0.087156  0.996195  \n",
              "4      -0.900969  0.130526  0.991445  \n",
              "\n",
              "[5 rows x 27 columns]"
            ]
          },
          "execution_count": 18,
          "metadata": {},
          "output_type": "execute_result"
        }
      ],
      "source": [
        "# Seleciona as colunas de Length em diante\n",
        "# Acha a coluna Length\n",
        "length_col_index = dt.columns.get_loc('Length')\n",
        "\n",
        "# Seleciona as colunas Length até o fim\n",
        "dt_numerical_features = dt.iloc[:, length_col_index:]\n",
        "\n",
        "# Display the first few rows of the new DataFrame\n",
        "dt_numerical_features.head()"
      ]
    },
    {
      "cell_type": "code",
      "execution_count": 19,
      "metadata": {
        "colab": {
          "base_uri": "https://localhost:8080/"
        },
        "id": "ml5VEvbMQWTX",
        "outputId": "a9c64518-0dd6-4def-fc18-65868d6ad119"
      },
      "outputs": [
        {
          "name": "stdout",
          "output_type": "stream",
          "text": [
            "<class 'pandas.core.frame.DataFrame'>\n",
            "RangeIndex: 539383 entries, 0 to 539382\n",
            "Data columns (total 27 columns):\n",
            " #   Column            Non-Null Count   Dtype  \n",
            "---  ------            --------------   -----  \n",
            " 0   Length            539383 non-null  int64  \n",
            " 1   Delay             539383 non-null  int64  \n",
            " 2   Flight_freq       539383 non-null  float64\n",
            " 3   Airline_9E        539383 non-null  bool   \n",
            " 4   Airline_AA        539383 non-null  bool   \n",
            " 5   Airline_AS        539383 non-null  bool   \n",
            " 6   Airline_B6        539383 non-null  bool   \n",
            " 7   Airline_CO        539383 non-null  bool   \n",
            " 8   Airline_DL        539383 non-null  bool   \n",
            " 9   Airline_EV        539383 non-null  bool   \n",
            " 10  Airline_F9        539383 non-null  bool   \n",
            " 11  Airline_FL        539383 non-null  bool   \n",
            " 12  Airline_HA        539383 non-null  bool   \n",
            " 13  Airline_MQ        539383 non-null  bool   \n",
            " 14  Airline_OH        539383 non-null  bool   \n",
            " 15  Airline_OO        539383 non-null  bool   \n",
            " 16  Airline_UA        539383 non-null  bool   \n",
            " 17  Airline_US        539383 non-null  bool   \n",
            " 18  Airline_WN        539383 non-null  bool   \n",
            " 19  Airline_XE        539383 non-null  bool   \n",
            " 20  Airline_YV        539383 non-null  bool   \n",
            " 21  AirportFrom_freq  539383 non-null  float64\n",
            " 22  AirportTo_freq    539383 non-null  float64\n",
            " 23  DayOfWeek_sin     539383 non-null  float64\n",
            " 24  DayOfWeek_cos     539383 non-null  float64\n",
            " 25  Time_sin          539383 non-null  float64\n",
            " 26  Time_cos          539383 non-null  float64\n",
            "dtypes: bool(18), float64(7), int64(2)\n",
            "memory usage: 46.3 MB\n"
          ]
        }
      ],
      "source": [
        "dt_numerical_features.info()"
      ]
    },
    {
      "cell_type": "markdown",
      "metadata": {
        "id": "U1m0h1Tz7TEt"
      },
      "source": [
        "Como o dataset tem 539383 registros e essa quantidade nao permitiu acabar de testar os modelos, principalmente o SVM, usaremos somente um subconjunto dele para chegar no modelo de ML. Manteremos a proporcao da coluna target nesta divisao. Nos testes, reduzimos em 50%, depois 20% e, finalmente, chagamos a 10% dos registros, ou seja, 53938 registros."
      ]
    },
    {
      "cell_type": "code",
      "execution_count": 20,
      "metadata": {
        "colab": {
          "base_uri": "https://localhost:8080/",
          "height": 443
        },
        "id": "_Uu64wzb7HPf",
        "outputId": "3a62a70d-6974-41e9-9bca-1482cc7d5d8b"
      },
      "outputs": [
        {
          "name": "stdout",
          "output_type": "stream",
          "text": [
            "Shape do dataset original: (539383, 27)\n",
            "Shape do subconjunto: (53938, 27)\n",
            "\n",
            "Distribuição da variável 'Delay' no dataset original:\n"
          ]
        },
        {
          "data": {
            "text/plain": [
              "Delay\n",
              "0    0.554558\n",
              "1    0.445442\n",
              "Name: proportion, dtype: float64"
            ]
          },
          "metadata": {},
          "output_type": "display_data"
        },
        {
          "name": "stdout",
          "output_type": "stream",
          "text": [
            "\n",
            "Distribuição da variável 'Delay' no subconjunto:\n"
          ]
        },
        {
          "data": {
            "text/plain": [
              "Delay\n",
              "0    0.554563\n",
              "1    0.445437\n",
              "Name: proportion, dtype: float64"
            ]
          },
          "metadata": {},
          "output_type": "display_data"
        }
      ],
      "source": [
        "seed = 3\n",
        "# Definindo a variável target\n",
        "y = dt_numerical_features['Delay']\n",
        "\n",
        "# Definindo as features (todas as outras colunas)\n",
        "X = dt_numerical_features.drop('Delay', axis=1)\n",
        "\n",
        "# Definindo o tamanho do subconjunto (por exemplo, 20%)\n",
        "subset_size = 0.10\n",
        "\n",
        "# Realizando a amostragem estratificada\n",
        "X_subset, _, y_subset, _ = train_test_split(\n",
        "    X, y,\n",
        "    test_size=(1-subset_size),  # Usamos 1 - subset_size para obter o tamanho desejado no primeiro output\n",
        "    random_state=seed,\n",
        "    stratify=y # Isso garante que as proporções de 'Delay' sejam mantidas\n",
        ")\n",
        "\n",
        "# Criando um novo DataFrame com o subconjunto\n",
        "dt_subset = X_subset.copy()\n",
        "dt_subset['Delay'] = y_subset\n",
        "\n",
        "print(\"Shape do dataset original:\", dt_numerical_features.shape)\n",
        "print(\"Shape do subconjunto:\", dt_subset.shape)\n",
        "\n",
        "print(\"\\nDistribuição da variável 'Delay' no dataset original:\")\n",
        "display(dt_numerical_features['Delay'].value_counts(normalize=True))\n",
        "\n",
        "print(\"\\nDistribuição da variável 'Delay' no subconjunto:\")\n",
        "display(dt_subset['Delay'].value_counts(normalize=True))"
      ]
    },
    {
      "cell_type": "markdown",
      "metadata": {},
      "source": [
        "Dividindo o subconjunto em treino e teste."
      ]
    },
    {
      "cell_type": "code",
      "execution_count": 21,
      "metadata": {
        "colab": {
          "base_uri": "https://localhost:8080/"
        },
        "id": "2wdPN5RCosOd",
        "outputId": "60a628cc-8125-463b-bef6-a8d5fe7b526d"
      },
      "outputs": [
        {
          "data": {
            "text/plain": [
              "((43150, 26), (10788, 26), (43150,), (10788,))"
            ]
          },
          "execution_count": 21,
          "metadata": {},
          "output_type": "execute_result"
        }
      ],
      "source": [
        "test_size = 0.2\n",
        "seed = 3\n",
        "\n",
        "# Define y como a coluna 'Delay'\n",
        "y = dt_subset['Delay']\n",
        "\n",
        "# Define X como todas as colunas menos 'Delay'\n",
        "X = dt_subset.drop('Delay', axis=1)\n",
        "\n",
        "\n",
        "X_train, X_test, y_train, y_test = train_test_split(X,y, test_size=test_size, shuffle=True, random_state=seed, stratify=y)\n",
        "\n",
        "scoring = \"accuracy\"\n",
        "num_particoes = 10\n",
        "kfold = StratifiedKFold(n_splits=num_particoes, shuffle=True, random_state=seed)\n",
        "\n",
        "X_train.shape, X_test.shape, y_train.shape, y_test.shape"
      ]
    },
    {
      "cell_type": "markdown",
      "metadata": {
        "id": "72bwoEbS8L7d"
      },
      "source": [
        "# **Analisando os Modelos**"
      ]
    },
    {
      "cell_type": "markdown",
      "metadata": {},
      "source": [
        "Analisando KNN, CART, NB e SVM."
      ]
    },
    {
      "cell_type": "code",
      "execution_count": 22,
      "metadata": {
        "id": "daeQah-kYkXF"
      },
      "outputs": [
        {
          "name": "stdout",
          "output_type": "stream",
          "text": [
            "KNN: 0.5995133256083429 (0.005638189925863742)\n",
            "CART: 0.5819003476245654 (0.003563900664599877)\n",
            "NB: 0.5865585168018541 (0.005618676019637564)\n",
            "SVM: 0.5545538818076478 (6.952491309387688e-05)\n"
          ]
        },
        {
          "data": {
            "image/png": "[encoded data removed]",
            "text/plain": [
              "<Figure size 1500x1000 with 1 Axes>"
            ]
          },
          "metadata": {},
          "output_type": "display_data"
        }
      ],
      "source": [
        "np.random.seed(3)\n",
        "\n",
        "models = []\n",
        "\n",
        "models.append((\"KNN\", KNeighborsClassifier()))\n",
        "models.append((\"CART\", DecisionTreeClassifier()))\n",
        "models.append((\"NB\", GaussianNB()))\n",
        "models.append((\"SVM\", SVC()))\n",
        "\n",
        "results = []\n",
        "names = []\n",
        "\n",
        "for name, model in models:\n",
        "    cv_results = cross_val_score(model, X_train, y_train, cv=kfold, scoring=scoring)\n",
        "    results.append(cv_results)\n",
        "    names.append(name)\n",
        "    msg = f\"{name}: {cv_results.mean()} ({cv_results.std()})\"\n",
        "    print(msg)\n",
        "\n",
        "fig = plt.figure(figsize=(15,10))\n",
        "fig.suptitle(\"Model Comparison\")\n",
        "ax = fig.add_subplot(111)\n",
        "plt.boxplot(results)\n",
        "ax.set_xticklabels(names)\n",
        "plt.show()"
      ]
    },
    {
      "cell_type": "markdown",
      "metadata": {},
      "source": [
        "Verificando os modelos apos usar padronizacao e normalizacao."
      ]
    },
    {
      "cell_type": "code",
      "execution_count": null,
      "metadata": {
        "colab": {
          "base_uri": "https://localhost:8080/",
          "height": 737
        },
        "id": "On9PDmcm9zfh",
        "outputId": "1f78d140-6e86-479f-8535-cff8c38357ac"
      },
      "outputs": [
        {
          "name": "stdout",
          "output_type": "stream",
          "text": [
            "KNN-orig: 0.5995133256083429 (0.005638189925863742)\n",
            "CART-orig: 0.5819003476245654 (0.003563900664599877)\n",
            "NB-orig: 0.5865585168018541 (0.005618676019637564)\n"
          ]
        }
      ],
      "source": [
        "np.random.seed(3)\n",
        "\n",
        "pipelines = []\n",
        "results = []\n",
        "names = []\n",
        "\n",
        "knn = (\"KNN\", KNeighborsClassifier())\n",
        "cart = (\"CART\", DecisionTreeClassifier())\n",
        "naive_bayes = (\"NB\", GaussianNB())\n",
        "svm = (\"SVM\", SVC())\n",
        "\n",
        "standard_scaler = (\"StandardScaler\", StandardScaler())\n",
        "min_max_scaler = (\"MinMaxScaler\", MinMaxScaler())\n",
        "\n",
        "# dataset original\n",
        "pipelines.append((\"KNN-orig\", Pipeline([knn])))\n",
        "pipelines.append((\"CART-orig\", Pipeline([cart])))\n",
        "pipelines.append((\"NB-orig\", Pipeline([naive_bayes])))\n",
        "pipelines.append((\"SVM-orig\", Pipeline([svm])))\n",
        "\n",
        "# dataset padronizado\n",
        "pipelines.append((\"KNN-std\", Pipeline([standard_scaler, knn])))\n",
        "pipelines.append((\"CART-std\", Pipeline([standard_scaler, cart])))\n",
        "pipelines.append((\"NB-std\", Pipeline([standard_scaler, naive_bayes])))\n",
        "pipelines.append((\"SVM-std\", Pipeline([standard_scaler, svm])))\n",
        "\n",
        "# dataset normalizado\n",
        "pipelines.append((\"KNN-norm\", Pipeline([min_max_scaler, knn])))\n",
        "pipelines.append((\"CART-norm\", Pipeline([min_max_scaler, cart])))\n",
        "pipelines.append((\"NB-norm\", Pipeline([min_max_scaler, naive_bayes])))\n",
        "pipelines.append((\"SVM-norm\", Pipeline([min_max_scaler, svm])))\n",
        "\n",
        "# executando os pipelines\n",
        "for name, model in pipelines:\n",
        "    cv_results = cross_val_score(model, X_train, y_train, cv=kfold, scoring=scoring)\n",
        "    results.append(cv_results)\n",
        "    names.append(name)\n",
        "    msg = f\"{name}: {cv_results.mean()} ({cv_results.std()})\"\n",
        "    print(msg)\n",
        "\n",
        "# boxplot de comparação dos modelos\n",
        "fig = plt.figure(figsize=(25, 6))\n",
        "fig.suptitle(\"Comparação dos Modelos - Dataset orginal, padronizado e normalizado\")\n",
        "ax = fig.add_subplot(111)\n",
        "plt.boxplot(results)\n",
        "ax.set_xticklabels(names, rotation=90)\n",
        "plt.show()"
      ]
    },
    {
      "cell_type": "markdown",
      "metadata": {},
      "source": [
        "O SVM, seguido do KNN, se mostraram com melhor resultados. Vamos tuna-los e descobrir os melhores parametros para isso. Comecaremos pelo KNN por levar um tempo menor de execucao."
      ]
    },
    {
      "cell_type": "markdown",
      "metadata": {},
      "source": [
        "## **KNN**"
      ]
    },
    {
      "cell_type": "code",
      "execution_count": null,
      "metadata": {
        "colab": {
          "background_save": true,
          "base_uri": "https://localhost:8080/"
        },
        "id": "2JRs3RTsi6ly",
        "outputId": "275f92d2-d5af-4439-a5bc-08fb57536289"
      },
      "outputs": [
        {
          "name": "stdout",
          "output_type": "stream",
          "text": [
            "Sem tratamento de missings: KNN-orig - Melhor acurácia: 0.6241135573580532 - Melhor parâmetro: {'KNN__metric': 'manhattan', 'KNN__n_neighbors': 19}\n",
            "Sem tratamento de missings: KNN-std - Melhor acurácia: 0.640127462340672 - Melhor parâmetro: {'KNN__metric': 'manhattan', 'KNN__n_neighbors': 21}\n",
            "Sem tratamento de missings: KNN-norm - Melhor acurácia: 0.6365932792584009 - Melhor parâmetro: {'KNN__metric': 'manhattan', 'KNN__n_neighbors': 21}\n"
          ]
        }
      ],
      "source": [
        "# Tuning do KNN\n",
        "np.random.seed(3)\n",
        "\n",
        "pipelines = []\n",
        "\n",
        "knn = (\"KNN\", KNeighborsClassifier())\n",
        "standard_scaler = (\"StandardScaler\", StandardScaler())\n",
        "min_max_scaler = (\"MinMaxScaler\", MinMaxScaler())\n",
        "\n",
        "pipelines.append((\"KNN-orig\", Pipeline([knn])))\n",
        "pipelines.append((\"KNN-std\", Pipeline(steps=[standard_scaler, knn])))\n",
        "pipelines.append((\"KNN-norm\", Pipeline(steps=[min_max_scaler, knn])))\n",
        "\n",
        "param_grid = {\n",
        "    'KNN__n_neighbors': [1,3,5,6,9,11,13,15,17,19,21],\n",
        "    'KNN__metric': ['euclidean', 'manhattan', 'minkowski'],\n",
        "}\n",
        "\n",
        "for name, model in pipelines:\n",
        "    grid = GridSearchCV(estimator=model, param_grid=param_grid, scoring=scoring, cv=kfold)\n",
        "    grid.fit(X_train, y_train)\n",
        "    print(f\"Sem tratamento de missings: {name} - Melhor acurácia: {grid.best_score_} - Melhor parâmetro: {grid.best_params_}\")"
      ]
    },
    {
      "cell_type": "code",
      "execution_count": null,
      "metadata": {
        "id": "E2_WeKC6n9um"
      },
      "outputs": [],
      "source": [
        "# Avaliação do modelo com o conjunto de testes\n",
        "\n",
        "# Preparação do modelo\n",
        "scaler = StandardScaler().fit(X_train) # ajuste do scaler com o conjunto de treino\n",
        "rescaledX = scaler.transform(X_train) # aplicação da padronização no conjunto de treino\n",
        "modelKNN = KNeighborsClassifier(metric='manhattan', n_neighbors=21)\n",
        "modelKNN.fit(rescaledX, y_train)\n",
        "\n",
        "# Estimativa da acurácia no conjunto de teste\n",
        "rescaledTestX = scaler.transform(X_test) # aplicação da padronização no conjunto de teste\n",
        "predictions = modelKNN.predict(rescaledTestX)\n",
        "print(accuracy_score(y_test, predictions))"
      ]
    },
    {
      "cell_type": "code",
      "execution_count": null,
      "metadata": {
        "id": "d9lz1m5Zn-rx"
      },
      "outputs": [],
      "source": [
        "# Preparação do modelo com TODO o dataset\n",
        "scaler = StandardScaler().fit(X) # ajuste do scaler com TODO o dataset\n",
        "rescaledX = scaler.transform(X) # aplicação da padronização com TODO o dataset\n",
        "modelKNN.fit(rescaledX, y)\n",
        "print(\"Modelo KNN treinado com TODO o dataset.\")"
      ]
    },
    {
      "cell_type": "markdown",
      "metadata": {},
      "source": [
        "## **SVM**"
      ]
    },
    {
      "cell_type": "code",
      "execution_count": null,
      "metadata": {},
      "outputs": [],
      "source": [
        "# Tuning do SVM\n",
        "np.random.seed(3)\n",
        "\n",
        "pipelines = []\n",
        "\n",
        "svm = (\"SVM\", SVC())\n",
        "standard_scaler = (\"StandardScaler\", StandardScaler())\n",
        "min_max_scaler = (\"MinMaxScaler\", MinMaxScaler())\n",
        "\n",
        "pipelines.append((\"SVM-orig\", Pipeline([svm])))\n",
        "pipelines.append((\"SVM-std\", Pipeline(steps=[standard_scaler, svm])))\n",
        "pipelines.append((\"SVM-norm\", Pipeline(steps=[min_max_scaler, svm])))\n",
        "\n",
        "param_grid = {\n",
        "    'SVM__C': [0.1, 1, 10, 100],\n",
        "    'SVM__kernel': ['linear', 'rbf', 'poly'],\n",
        "    'SVM__gamma': ['scale', 'auto']  # Só é usado para alguns kernels\n",
        "}\n",
        "\n",
        "for name, model in pipelines:\n",
        "    grid = GridSearchCV(estimator=model, param_grid=param_grid, scoring=scoring, cv=kfold)\n",
        "    grid.fit(X_train, y_train)\n",
        "    print(f\"Sem tratamento de missings: {name} - Melhor acurácia: {grid.best_score_} - Melhor parâmetro: {grid.best_params_}\")\n"
      ]
    },
    {
      "cell_type": "code",
      "execution_count": null,
      "metadata": {},
      "outputs": [],
      "source": [
        "# Avaliação do modelo com o conjunto de testes\n",
        "\n",
        "# Preparação do modelo\n",
        "scaler = StandardScaler().fit(X_train) # ajuste do scaler com o conjunto de treino\n",
        "rescaledX = scaler.transform(X_train) # aplicação da padronização no conjunto de treino\n",
        "modelSVM = KNeighborsClassifier(metric='manhattan', n_neighbors=21)\n",
        "modelSVM = SVC(C=1, kernel='rbf', gamma='scale')  # Parâmetros otimizados do GridSearchCV\n",
        "modelSVM.fit(rescaledX, y_train)\n",
        "\n",
        "# Estimativa da acurácia no conjunto de teste\n",
        "rescaledTestX = scaler.transform(X_test) # aplicação da padronização no conjunto de teste\n",
        "predictions = modelSVM.predict(rescaledTestX)\n",
        "print(accuracy_score(y_test, predictions))\n"
      ]
    },
    {
      "cell_type": "code",
      "execution_count": null,
      "metadata": {},
      "outputs": [],
      "source": [
        "# Preparação do modelo com TODO o dataset\n",
        "scaler = StandardScaler().fit(X) # ajuste do scaler com TODO o dataset\n",
        "rescaledX = scaler.transform(X) # aplicação da padronização com TODO o dataset\n",
        "modelSVM.fit(rescaledX, y)\n",
        "print(\"Modelo SVM treinado com TODO o dataset.\")"
      ]
    },
    {
      "cell_type": "markdown",
      "metadata": {
        "id": "CnHNqpHV8CUv"
      },
      "source": [
        "# **Preparando o Pipeline**"
      ]
    },
    {
      "cell_type": "markdown",
      "metadata": {
        "id": "wDMNMt1L9Wy7"
      },
      "source": [
        "Nas fases anteriores, fizemos uma Análise Exploratória dos Dados (AED) e chegamos a um modelo com melhor acurácia. Agora vamos criar o pipeline para gerar o arquivo que usarmos no sistema que será desenvolvido. Partiremos do início, lendo o dataset e reduzindo-o. O processamento das variávies será realizado utilizando o recursos da biblioteca scikit-learn."
      ]
    },
    {
      "cell_type": "code",
      "execution_count": null,
      "metadata": {
        "id": "_c4IsSS980tv"
      },
      "outputs": [],
      "source": [
        "# carregando o dataset novamente\n",
        "path = \"/content/drive/MyDrive/Colab Notebooks/Airlines.csv\"\n",
        "\n",
        "dt = pd.read_csv(path)"
      ]
    },
    {
      "cell_type": "markdown",
      "metadata": {
        "id": "vXQtWVu69yup"
      },
      "source": [
        "Vamos reduzir o dataset para 20% do original devido ao tempo de processamento, como já mostrado na AED."
      ]
    },
    {
      "cell_type": "code",
      "execution_count": null,
      "metadata": {
        "colab": {
          "base_uri": "https://localhost:8080/",
          "height": 443
        },
        "id": "mjjovJAA99Ai",
        "outputId": "ce59f8cc-5d0b-40c3-d3dc-ba32e51c7eb6"
      },
      "outputs": [
        {
          "name": "stdout",
          "output_type": "stream",
          "text": [
            "Shape do dataset original: (539383, 27)\n",
            "Shape do subconjunto: (107876, 9)\n",
            "\n",
            "Distribuição da variável 'Delay' no dataset original:\n"
          ]
        },
        {
          "data": {
            "text/html": [
              "<div>\n",
              "<style scoped>\n",
              "    .dataframe tbody tr th:only-of-type {\n",
              "        vertical-align: middle;\n",
              "    }\n",
              "\n",
              "    .dataframe tbody tr th {\n",
              "        vertical-align: top;\n",
              "    }\n",
              "\n",
              "    .dataframe thead th {\n",
              "        text-align: right;\n",
              "    }\n",
              "</style>\n",
              "<table border=\"1\" class=\"dataframe\">\n",
              "  <thead>\n",
              "    <tr style=\"text-align: right;\">\n",
              "      <th></th>\n",
              "      <th>proportion</th>\n",
              "    </tr>\n",
              "    <tr>\n",
              "      <th>Delay</th>\n",
              "      <th></th>\n",
              "    </tr>\n",
              "  </thead>\n",
              "  <tbody>\n",
              "    <tr>\n",
              "      <th>0</th>\n",
              "      <td>0.554558</td>\n",
              "    </tr>\n",
              "    <tr>\n",
              "      <th>1</th>\n",
              "      <td>0.445442</td>\n",
              "    </tr>\n",
              "  </tbody>\n",
              "</table>\n",
              "</div><br><label><b>dtype:</b> float64</label>"
            ],
            "text/plain": [
              "Delay\n",
              "0    0.554558\n",
              "1    0.445442\n",
              "Name: proportion, dtype: float64"
            ]
          },
          "metadata": {},
          "output_type": "display_data"
        },
        {
          "name": "stdout",
          "output_type": "stream",
          "text": [
            "\n",
            "Distribuição da variável 'Delay' no subconjunto:\n"
          ]
        },
        {
          "data": {
            "text/html": [
              "<div>\n",
              "<style scoped>\n",
              "    .dataframe tbody tr th:only-of-type {\n",
              "        vertical-align: middle;\n",
              "    }\n",
              "\n",
              "    .dataframe tbody tr th {\n",
              "        vertical-align: top;\n",
              "    }\n",
              "\n",
              "    .dataframe thead th {\n",
              "        text-align: right;\n",
              "    }\n",
              "</style>\n",
              "<table border=\"1\" class=\"dataframe\">\n",
              "  <thead>\n",
              "    <tr style=\"text-align: right;\">\n",
              "      <th></th>\n",
              "      <th>proportion</th>\n",
              "    </tr>\n",
              "    <tr>\n",
              "      <th>Delay</th>\n",
              "      <th></th>\n",
              "    </tr>\n",
              "  </thead>\n",
              "  <tbody>\n",
              "    <tr>\n",
              "      <th>0</th>\n",
              "      <td>0.554553</td>\n",
              "    </tr>\n",
              "    <tr>\n",
              "      <th>1</th>\n",
              "      <td>0.445447</td>\n",
              "    </tr>\n",
              "  </tbody>\n",
              "</table>\n",
              "</div><br><label><b>dtype:</b> float64</label>"
            ],
            "text/plain": [
              "Delay\n",
              "0    0.554553\n",
              "1    0.445447\n",
              "Name: proportion, dtype: float64"
            ]
          },
          "metadata": {},
          "output_type": "display_data"
        }
      ],
      "source": [
        "seed = 3\n",
        "# Definindo a variável target\n",
        "y = dt['Delay']\n",
        "\n",
        "# Definindo as features (todas as outras colunas)\n",
        "X = dt.drop('Delay', axis=1)\n",
        "\n",
        "# Definindo o tamanho do subconjunto (por exemplo, 20%)\n",
        "subset_size = 0.20\n",
        "\n",
        "# Realizando a amostragem estratificada\n",
        "X_subset, _, y_subset, _ = train_test_split(\n",
        "    X, y,\n",
        "    test_size=(1-subset_size),  # Usamos 1 - subset_size para obter o tamanho desejado no primeiro output\n",
        "    random_state=seed,\n",
        "    stratify=y # Isso garante que as proporções de 'Delay' sejam mantidas\n",
        ")\n",
        "\n",
        "# Criando um novo DataFrame com o subconjunto\n",
        "dt_subset = X_subset.copy()\n",
        "dt_subset['Delay'] = y_subset\n",
        "\n",
        "print(\"Shape do dataset original:\", dt_numerical_features.shape)\n",
        "print(\"Shape do subconjunto:\", dt_subset.shape)\n",
        "\n",
        "print(\"\\nDistribuição da variável 'Delay' no dataset original:\")\n",
        "display(dt_numerical_features['Delay'].value_counts(normalize=True))\n",
        "\n",
        "print(\"\\nDistribuição da variável 'Delay' no subconjunto:\")\n",
        "display(dt_subset['Delay'].value_counts(normalize=True))"
      ]
    },
    {
      "cell_type": "code",
      "execution_count": null,
      "metadata": {
        "colab": {
          "base_uri": "https://localhost:8080/"
        },
        "id": "y2KHYOiA_41g",
        "outputId": "3f427842-95d2-4d78-a318-5d1048a76afd"
      },
      "outputs": [
        {
          "name": "stdout",
          "output_type": "stream",
          "text": [
            "<class 'pandas.core.frame.DataFrame'>\n",
            "Index: 107876 entries, 330391 to 177903\n",
            "Data columns (total 9 columns):\n",
            " #   Column       Non-Null Count   Dtype \n",
            "---  ------       --------------   ----- \n",
            " 0   id           107876 non-null  int64 \n",
            " 1   Airline      107876 non-null  object\n",
            " 2   Flight       107876 non-null  int64 \n",
            " 3   AirportFrom  107876 non-null  object\n",
            " 4   AirportTo    107876 non-null  object\n",
            " 5   DayOfWeek    107876 non-null  int64 \n",
            " 6   Time         107876 non-null  int64 \n",
            " 7   Length       107876 non-null  int64 \n",
            " 8   Delay        107876 non-null  int64 \n",
            "dtypes: int64(6), object(3)\n",
            "memory usage: 8.2+ MB\n"
          ]
        }
      ],
      "source": [
        "dt_subset.info()"
      ]
    },
    {
      "cell_type": "markdown",
      "metadata": {
        "id": "c04ec81c"
      },
      "source": [
        "Para criar um pipeline que trata diferentes tipos de variáveis de forma adequada, utilizaremos o `ColumnTransformer` do scikit-learn. Este transformador permite aplicar diferentes transformações a diferentes subconjuntos de colunas.\n",
        "\n",
        "As transformações serão as seguintes:\n",
        "- **Variáveis de Alta Cardinalidade e Nominal**: 'Flight', 'AirportFrom', 'AirportTo' serão tratadas com Frequency Encoding.\n",
        "- **Variável de Baixa Cardinalidade e Nominal**: 'Airline' será tratada com One-Hot Encoding.\n",
        "- **Variáveis Cíclicas**: 'DayOfWeek' e 'Time' serão transformadas em suas componentes seno e cosseno.\n",
        "- **Variável Numérica Contínua**: 'Length' será padronizada usando `StandardScaler`.\n",
        "\n",
        "As variáveis transformadas (freq encoding, one-hot encoding, seno/cosseno) também precisarão ser padronizadas, o que será feito após o `ColumnTransformer` com outro `StandardScaler`.\n",
        "\n",
        "Finalmente, o modelo `KNeighborsClassifier` com os melhores parâmetros encontrados (`n_neighbors=21`, `metric='manhattan'`) será aplicado."
      ]
    },
    {
      "cell_type": "code",
      "execution_count": null,
      "metadata": {
        "colab": {
          "base_uri": "https://localhost:8080/"
        },
        "id": "8c7f29ab",
        "outputId": "ab3c7be3-a4f1-40af-d5b9-912134ba455e"
      },
      "outputs": [
        {
          "name": "stdout",
          "output_type": "stream",
          "text": [
            "Acurácia do pipeline no conjunto de teste: 0.6386262513904338\n"
          ]
        }
      ],
      "source": [
        "# Define as colunas para cada tipo de transformação\n",
        "high_cardinality_cols = ['Flight', 'AirportFrom', 'AirportTo']\n",
        "low_cardinality_cols = ['Airline']\n",
        "cyclic_cols = ['DayOfWeek', 'Time']\n",
        "numerical_cols = ['Length']\n",
        "target_col = 'Delay'\n",
        "\n",
        "# Cria os transformadores personalizados\n",
        "def frequency_encoding(X):\n",
        "    X_copy = X.copy()\n",
        "    for col in high_cardinality_cols:\n",
        "        freq = X_copy[col].value_counts(normalize=True)\n",
        "        X_copy[col] = X_copy[col].map(freq)\n",
        "    return X_copy[high_cardinality_cols] # Retorna apenas as colunas transformadas\n",
        "\n",
        "def cyclic_transformer(X):\n",
        "    X_copy = X.copy()\n",
        "    for col in cyclic_cols:\n",
        "        if col == 'DayOfWeek':\n",
        "            X_copy[col + '_sin'] = np.sin(2 * np.pi * X_copy[col] / 7)\n",
        "            X_copy[col + '_cos'] = np.cos(2 * np.pi * X_copy[col] / 7)\n",
        "        elif col == 'Time':\n",
        "            X_copy[col + '_sin'] = np.sin(2 * np.pi * X_copy[col] / (24 * 60))\n",
        "            X_copy[col + '_cos'] = np.cos(2 * np.pi * X_copy[col] / (24 * 60))\n",
        "    return X_copy[[col + '_sin' for col in cyclic_cols] + [col + '_cos' for col in cyclic_cols]] # Retorna apenas as colunas transformadas\n",
        "\n",
        "\n",
        "# Cria os pipelines para cada tipo de feature\n",
        "preprocessor = ColumnTransformer(\n",
        "    transformers=[\n",
        "        ('freq', FunctionTransformer(func=frequency_encoding), high_cardinality_cols),\n",
        "        ('onehot', OneHotEncoder(handle_unknown='ignore'), low_cardinality_cols),\n",
        "        ('cyclic', FunctionTransformer(func=cyclic_transformer), cyclic_cols),\n",
        "        ('scaler_num', StandardScaler(), numerical_cols) # Padroniza 'Length'\n",
        "    ],\n",
        "    remainder='passthrough' # Mantém as outras colunas (neste caso, 'id' e 'Delay' - que serão removidas antes de passar para o pipeline)\n",
        ")\n",
        "\n",
        "# Cria o pipeline completo\n",
        "model_pipeline = Pipeline(steps=[\n",
        "    ('preprocessor', preprocessor),\n",
        "    ('scaler', StandardScaler()), # Padroniza todas as features após o preprocessor\n",
        "    ('knn', KNeighborsClassifier(n_neighbors=21, metric='manhattan'))\n",
        "])\n",
        "\n",
        "# Separa as features (X) e o target (y) do subset\n",
        "X_subset_for_pipeline = dt_subset.drop(target_col, axis=1)\n",
        "y_subset_for_pipeline = dt_subset[target_col]\n",
        "\n",
        "# Remove a coluna 'id'\n",
        "X_subset_for_pipeline = X_subset_for_pipeline.drop(['id'], axis=1)\n",
        "\n",
        "\n",
        "# Divide o subconjunto em treino e teste para o pipeline\n",
        "X_train_pipe, X_test_pipe, y_train_pipe, y_test_pipe = train_test_split(\n",
        "    X_subset_for_pipeline, y_subset_for_pipeline,\n",
        "    test_size=test_size,\n",
        "    shuffle=True,\n",
        "    random_state=seed,\n",
        "    stratify=y_subset_for_pipeline\n",
        ")\n",
        "\n",
        "# Treina o pipeline\n",
        "model_pipeline.fit(X_train_pipe, y_train_pipe)\n",
        "\n",
        "# Avalia o pipeline no conjunto de teste\n",
        "accuracy = model_pipeline.score(X_test_pipe, y_test_pipe)\n",
        "print(f\"Acurácia do pipeline no conjunto de teste: {accuracy}\")"
      ]
    },
    {
      "cell_type": "markdown",
      "metadata": {
        "id": "e39aaa1b"
      },
      "source": [
        "O pipeline foi criado e treinado com sucesso! Agora ele pode ser usado para fazer predições em novos dados, garantindo que as mesmas transformações aplicadas aos dados de treinamento sejam aplicadas aos novos dados.\n",
        "\n",
        "Para demonstrar como usar o pipeline para fazer predições em novos dados, vou criar um pequeno exemplo de dados de teste."
      ]
    },
    {
      "cell_type": "code",
      "execution_count": null,
      "metadata": {
        "colab": {
          "base_uri": "https://localhost:8080/"
        },
        "id": "71a9dabe",
        "outputId": "3ef5a1ed-3f86-41a8-9d3f-28714f9d7b18"
      },
      "outputs": [
        {
          "name": "stdout",
          "output_type": "stream",
          "text": [
            "\n",
            "Predições para os novos dados:\n",
            "[1 0 1]\n"
          ]
        }
      ],
      "source": [
        "# Exemplo de novos dados para predição\n",
        "new_data = pd.DataFrame({\n",
        "    'Airline': ['CO', 'US', 'AA'],\n",
        "    'Flight': [269, 1558, 2400],\n",
        "    'AirportFrom': ['SFO', 'PHX', 'LAX'],\n",
        "    'AirportTo': ['IAH', 'CLT', 'DFW'],\n",
        "    'DayOfWeek': [3, 3, 3],\n",
        "    'Time': [15, 15, 20],\n",
        "    'Length': [205, 222, 165],\n",
        "    'id': [1, 2, 3] # 'id' will be dropped by the pipeline\n",
        "})\n",
        "\n",
        "# Remove a coluna 'id' antes de passar para o pipeline para predição\n",
        "new_data_for_prediction = new_data.drop('id', axis=1)\n",
        "\n",
        "# Faz a predição usando o pipeline treinado\n",
        "predictions_pipeline = model_pipeline.predict(new_data_for_prediction)\n",
        "\n",
        "print(\"\\nPredições para os novos dados:\")\n",
        "print(predictions_pipeline)"
      ]
    },
    {
      "cell_type": "code",
      "execution_count": null,
      "metadata": {
        "colab": {
          "base_uri": "https://localhost:8080/"
        },
        "id": "a13f07c7",
        "outputId": "001851ff-670d-4654-d851-7c1eb78e9aee"
      },
      "outputs": [
        {
          "name": "stdout",
          "output_type": "stream",
          "text": [
            "Pipeline salvo em 'finalized_model_pipeline.pkl'\n"
          ]
        }
      ],
      "source": [
        "import pickle\n",
        "\n",
        "# Salva o pipeline treinado em um arquivo\n",
        "filename = 'finalized_model_pipeline.pkl'\n",
        "pickle.dump(model_pipeline, open(filename, 'wb'))\n",
        "\n",
        "print(f\"Pipeline salvo em '{filename}'\")"
      ]
    },
    {
      "cell_type": "code",
      "execution_count": null,
      "metadata": {
        "colab": {
          "base_uri": "https://localhost:8080/"
        },
        "id": "48dc35a3",
        "outputId": "94c1567d-3136-4310-c677-39e35c7b41e2"
      },
      "outputs": [
        {
          "name": "stdout",
          "output_type": "stream",
          "text": [
            "Predições usando o pipeline carregado:\n",
            "[1 0 1]\n"
          ]
        }
      ],
      "source": [
        "import pickle\n",
        "import pandas as pd\n",
        "\n",
        "# Carrega o pipeline do arquivo\n",
        "filename = 'finalized_model_pipeline.pkl'\n",
        "loaded_pipeline = pickle.load(open(filename, 'rb'))\n",
        "\n",
        "# Exemplo de novos dados para predição (certifique-se de que as colunas estejam na mesma ordem que os dados de treino, exceto 'id')\n",
        "new_data_to_predict = pd.DataFrame({\n",
        "    'Airline': ['CO', 'US', 'AA'],\n",
        "    'Flight': [269, 1558, 2400],\n",
        "    'AirportFrom': ['SFO', 'PHX', 'LAX'],\n",
        "    'AirportTo': ['IAH', 'CLT', 'DFW'],\n",
        "    'DayOfWeek': [3, 3, 3],\n",
        "    'Time': [15, 15, 20],\n",
        "    'Length': [205, 222, 165],\n",
        "    # 'id': [1, 2, 3] # 'id' will be dropped by the pipeline\n",
        "})\n",
        "\n",
        "# Remove a coluna 'id' antes de passar para o pipeline para predição\n",
        "# new_data_to_predict = new_data_to_predict.drop('id', axis=1)\n",
        "\n",
        "\n",
        "# Faz a predição usando o pipeline carregado\n",
        "predictions_loaded_pipeline = loaded_pipeline.predict(new_data_to_predict)\n",
        "\n",
        "print(\"Predições usando o pipeline carregado:\")\n",
        "print(predictions_loaded_pipeline)"
      ]
    },
    {
      "cell_type": "code",
      "execution_count": null,
      "metadata": {
        "id": "dcuu4HbKB7p1"
      },
      "outputs": [],
      "source": []
    }
  ],
  "metadata": {
    "colab": {
      "authorship_tag": "ABX9TyMqoj1gm7jTKRC7uGb2vpof",
      "include_colab_link": true,
      "provenance": []
    },
    "kernelspec": {
      "display_name": ".env",
      "language": "python",
      "name": "python3"
    },
    "language_info": {
      "codemirror_mode": {
        "name": "ipython",
        "version": 3
      },
      "file_extension": ".py",
      "mimetype": "text/x-python",
      "name": "python",
      "nbconvert_exporter": "python",
      "pygments_lexer": "ipython3",
      "version": "3.13.5"
    }
  },
  "nbformat": 4,
  "nbformat_minor": 0
}
